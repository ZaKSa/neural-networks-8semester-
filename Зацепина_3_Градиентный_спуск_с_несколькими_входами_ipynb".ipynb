{
  "nbformat": 4,
  "nbformat_minor": 0,
  "metadata": {
    "colab": {
      "provenance": [],
      "include_colab_link": true
    },
    "kernelspec": {
      "name": "python3",
      "display_name": "Python 3"
    },
    "language_info": {
      "name": "python"
    }
  },
  "cells": [
    {
      "cell_type": "markdown",
      "metadata": {
        "id": "view-in-github",
        "colab_type": "text"
      },
      "source": [
        "<a href=\"https://colab.research.google.com/github/ZaKSa/neural-networks-8semester-/blob/marathon/%D0%97%D0%B0%D1%86%D0%B5%D0%BF%D0%B8%D0%BD%D0%B0_3_%D0%93%D1%80%D0%B0%D0%B4%D0%B8%D0%B5%D0%BD%D1%82%D0%BD%D1%8B%D0%B9_%D1%81%D0%BF%D1%83%D1%81%D0%BA_%D1%81_%D0%BD%D0%B5%D1%81%D0%BA%D0%BE%D0%BB%D1%8C%D0%BA%D0%B8%D0%BC%D0%B8_%D0%B2%D1%85%D0%BE%D0%B4%D0%B0%D0%BC%D0%B8_ipynb%22.ipynb\" target=\"_parent\"><img src=\"https://colab.research.google.com/assets/colab-badge.svg\" alt=\"Open In Colab\"/></a>"
      ]
    },
    {
      "cell_type": "markdown",
      "source": [
        "Зацепина Ксения 6407\n",
        "1. Сделано\n",
        "\n",
        "2. Сделано\n",
        "\n",
        "3. Сделано\n",
        "\n",
        "4. \n",
        "\n"
      ],
      "metadata": {
        "id": "9DKkj_0OZa5W"
      }
    },
    {
      "cell_type": "markdown",
      "source": [
        "Для какого веса наклон больше? К чему приводит большой наклон касательной при корректировке веса?"
      ],
      "metadata": {
        "id": "sVZnsIe0Zu87"
      }
    },
    {
      "cell_type": "markdown",
      "source": [
        "1. Реализуйте 1 шаг градиентного спуска для сети с несколькими входами"
      ],
      "metadata": {
        "id": "WEVsA5kMpad0"
      }
    },
    {
      "cell_type": "markdown",
      "source": [
        "![image.png](data:image/png;base64,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)"
      ],
      "metadata": {
        "id": "4wsd44hFpjJY"
      }
    },
    {
      "cell_type": "code",
      "source": [
        "import matplotlib.pyplot as plt\n",
        "import numpy as np\n",
        "\n",
        "def w_sum(a,b):\n",
        "    assert(len(a) == len(b))\n",
        "    output = 0\n",
        "    for i in range(len(a)):\n",
        "        output += (a[i] * b[i])\n",
        "\n",
        "    return output\n",
        "\n",
        "weights = [0.1, 0.2, -.1] \n",
        "\n",
        "def neural_network(input,weights):\n",
        "    pred = w_sum(input,weights)\n",
        "    return pred\n",
        "\n",
        "games =  [8.5, 9.5, 9.9, 9.0] # среднее число игр, сыгранных каждым игроком в сезоне\n",
        "wins= [0.65, 0.8, 0.8, 0.9] # доля побед\n",
        "nfans = [1.2, 1.3, 0.5, 1.0] # число фанатов в тысячах\n",
        "\n",
        "win_or_lose_binary = [1, 1, 0, 1] # целевые значения выхода сети\n",
        "\n",
        "target = win_or_lose_binary[0]\n",
        "input = [games[0],wins[0],nfans[0]]\n",
        "\n",
        "pred = neural_network(input,weights)\n",
        "error = (pred - target)**2\n",
        "\n",
        "learning_rate  =0.01\n",
        "\n",
        "def ele_mul(number,vector): #реализовать умножение числа на вектор\n",
        "  res=[]\n",
        "  for i in range(len(vector)):\n",
        "    res.append(number*vector[i])\n",
        "  return res\n",
        "\n",
        "C = 2*(pred-target)*learning_rate\n",
        "weight_corrections = ele_mul(C,input)\n",
        "\n",
        "print(\"Weights:\" + str(weights))\n",
        "print(\"Weight corrections:\" + str(weight_corrections))\n",
        "\n",
        "\n",
        "for i in range(len(weights)):\n",
        "  weights[i] = weights[i]- weight_corrections[i]\n",
        "  \n",
        "\n",
        "print(pred, neural_network(input,weights))\n",
        "print(\"Weights:\" + str(weights))\n",
        "print(\"Weight corrections:\" + str(weight_corrections))"
      ],
      "metadata": {
        "id": "RgYkyJJ4piF3",
        "colab": {
          "base_uri": "https://localhost:8080/"
        },
        "outputId": "711b8986-3f4e-41a9-be96-a6860266b4f3"
      },
      "execution_count": null,
      "outputs": [
        {
          "output_type": "stream",
          "name": "stdout",
          "text": [
            "Weights:[0.1, 0.2, -0.1]\n",
            "Weight corrections:[-0.023799999999999984, -0.001819999999999999, -0.003359999999999998]\n",
            "0.8600000000000001 1.067515\n",
            "Weights:[0.1238, 0.20182, -0.09664]\n",
            "Weight corrections:[-0.023799999999999984, -0.001819999999999999, -0.003359999999999998]\n"
          ]
        }
      ]
    },
    {
      "cell_type": "markdown",
      "source": [
        "2. Сделайте  несколько итераций градиентного спуска.Постройте графики error/weight. Отметьте на графиках как меняется соответсвующий вес в процессе обучения. "
      ],
      "metadata": {
        "id": "i28mwjoZ7MrK"
      }
    },
    {
      "cell_type": "code",
      "execution_count": null,
      "metadata": {
        "id": "eem8b8bu7b-l",
        "colab": {
          "base_uri": "https://localhost:8080/",
          "height": 1000
        },
        "outputId": "f641d5d0-c224-48a1-a436-a2fef9a9f84f"
      },
      "outputs": [
        {
          "output_type": "stream",
          "name": "stdout",
          "text": [
            "Weights:[0.1, 0.2, -0.1]\n",
            "Weight corrections:[-2.379999999999998, -0.18199999999999988, -0.33599999999999974]\n",
            "0.8600000000000001 1.067515\n",
            "1.067515 0.9674408912499999\n",
            "0.9674408912499999 1.0157016301946877\n",
            "1.0157016301946877 0.9924278888386118\n",
            "0.9924278888386118 1.0036516506075794\n",
            "1.0036516506075794 0.9982389914944949\n",
            "0.9982389914944949 1.0008492463517795\n",
            "1.0008492463517795 0.9995904509468545\n",
            "0.9995904509468545 1.0001975050308793\n",
            "1.0001975050308793 0.9999047531988585\n",
            "0.9999047531988585 1.0000459327698505\n",
            "1.0000459327698505 0.9999778489217395\n",
            "0.9999778489217395 1.0000106823574912\n",
            "1.0000106823574912 0.9999948484330998\n",
            "0.9999948484330998 1.0000024843431377\n",
            "1.0000024843431377 0.9999988019255218\n",
            "0.9999988019255218 1.0000005777714172\n",
            "1.0000005777714172 0.9999997213697341\n",
            "0.9999997213697341 1.0000001343694458\n",
            "1.0000001343694458 0.9999999352003347\n",
            "0.9999999352003347 1.0000000312496387\n",
            "1.0000000312496387 0.9999999849298618\n",
            "0.9999999849298618 1.0000000072675739\n",
            "1.0000000072675739 0.9999999964952127\n",
            "0.9999999964952127 1.0000000016901838\n",
            "1.0000000016901838 0.9999999991849087\n",
            "0.9999999991849087 1.0000000003930778\n",
            "1.0000000003930778 0.9999999998104382\n",
            "0.9999999998104382 1.0000000000914162\n",
            "1.0000000000914162 0.9999999999559147\n",
            "[0.1        0.1238     0.11232245 0.1178575  0.11518822 0.11647548\n",
            " 0.1158547  0.11615407 0.1160097  0.11607932 0.11604575 0.11606194\n",
            " 0.11605413 0.1160579  0.11605608 0.11605696 0.11605653 0.11605674\n",
            " 0.11605664 0.11605669 0.11605666 0.11605667 0.11605667 0.11605667\n",
            " 0.11605667 0.11605667 0.11605667 0.11605667 0.11605667 0.11605667] [1.96000000e-02 4.55827522e-03 1.06009556e-03 2.46541191e-04\n",
            " 5.73368674e-05 1.33345522e-05 3.10115096e-06 7.21219366e-07\n",
            " 1.67730427e-07 3.90082372e-08 9.07195313e-09 2.10981935e-09\n",
            " 4.90670268e-10 1.14112762e-10 2.65386415e-11 6.17196083e-12\n",
            " 1.43538246e-12 3.33819810e-13 7.76348251e-14 1.80551480e-14\n",
            " 4.19899662e-15 9.76539916e-16 2.27109067e-16 5.28176300e-17\n",
            " 1.22835344e-17 2.85672118e-18 6.64373873e-19 1.54510151e-19\n",
            " 3.59336801e-20 8.35692307e-21] [0. 0. 0. 0. 0. 0. 0. 0. 0. 0. 0. 0. 0. 0. 0. 0. 0. 0. 0. 0. 0. 0. 0. 0.\n",
            " 0. 0. 0. 0. 0. 0.]\n"
          ]
        },
        {
          "output_type": "display_data",
          "data": {
            "text/plain": [
              "<Figure size 432x288 with 1 Axes>"
            ],
            "image/png": "[encoded data removed]"
          },
          "metadata": {
            "needs_background": "light"
          }
        },
        {
          "output_type": "display_data",
          "data": {
            "text/plain": [
              "<Figure size 432x288 with 1 Axes>"
            ],
            "image/png": "[encoded data removed]"
          },
          "metadata": {
            "needs_background": "light"
          }
        }
      ],
      "source": [
        "import matplotlib.pyplot as plt\n",
        "import numpy as np\n",
        "\n",
        "def w_sum(a,b):\n",
        "    assert(len(a) == len(b))\n",
        "    output = 0\n",
        "    for i in range(len(a)):\n",
        "        output += (a[i] * b[i])\n",
        "\n",
        "    return output\n",
        "\n",
        "weights = [0.1, 0.2, -.1] \n",
        "\n",
        "def neural_network(input,weights):\n",
        "    pred = w_sum(input,weights)\n",
        "    return pred\n",
        "\n",
        "games =  [8.5, 9.5, 9.9, 9.0] # среднее число игр, сыгранных каждым игроком в сезоне\n",
        "wins= [0.65, 0.8, 0.8, 0.9] # доля побед\n",
        "nfans = [1.2, 1.3, 0.5, 1.0] # число фанатов в тысячах\n",
        "\n",
        "win_or_lose_binary = [1, 1, 0, 1] # целевые значения выхода сети\n",
        "\n",
        "target = win_or_lose_binary[0]\n",
        "input = [games[0],wins[0],nfans[0]]\n",
        "\n",
        "pred = neural_network(input,weights)\n",
        "error = (pred - target)**2\n",
        "\n",
        "learning_rate  =0.01\n",
        "\n",
        "def ele_mul(number,vector): #реализовать умножение числа на вектор\n",
        "  res=[]\n",
        "  for i in range(len(vector)):\n",
        "    res.append(number*vector[i])\n",
        "  return res\n",
        "\n",
        "C = 2*(pred-target)\n",
        "weight_corrections = ele_mul(C,input)\n",
        "\n",
        "print(\"Weights:\" + str(weights))\n",
        "print(\"Weight corrections:\" + str(weight_corrections))\n",
        "\n",
        "n=30\n",
        "\n",
        "x1 = np.zeros(n)\n",
        "y1 = np.zeros(n)\n",
        "z1 = np.zeros(n)\n",
        "x2 = np.zeros(n)\n",
        "y2 = np.zeros(n)\n",
        "z2 = np.zeros(n)\n",
        "x3 = np.zeros(n)\n",
        "y3 = np.zeros(n)\n",
        "z3 = np.zeros(n)\n",
        "\n",
        "for i in range(n):\n",
        "  pred = neural_network(input,weights)\n",
        "  error = (pred - target)**2 #ошибка\n",
        "\n",
        "  C = 2*(pred-target)*learning_rate\n",
        "  weight_corrections = ele_mul(C,input) #вектор производных для весов\n",
        "  \n",
        "  x1[i] = weights[0] #градиентный спуск\n",
        "  weights[0] = weights[0]- weight_corrections[0]\n",
        "  y1[i] = error\n",
        "  #z1[i] = weight_corrections[0]\n",
        "  x2[i] = weights[1]#градиентный спуск\n",
        "  weights[1] = weights[1]- weight_corrections[1] \n",
        "  y2[i] = error\n",
        "  z2[i] = weight_corrections[1]\n",
        "  x3[i] = weights[2]\n",
        "  weights[2] = weights[2]- weight_corrections[2] \n",
        "  y3[i] = error\n",
        "  z3[i] = weight_corrections[2]\n",
        "\n",
        "  print(pred, neural_network(input,weights))\n",
        "  \n",
        "print(x1, y1, z1)\n",
        "#plt.plot(x1,y1,'*')\n",
        "#plt.plot(x1,z1)\n",
        "plt.show()\n",
        "plt.plot(x2,y2,'*')\n",
        "#plt.plot(z2,y2)\n",
        "plt.show()\n",
        "plt.plot(x3,y3,'*')\n",
        "#plt.plot(x3,z3)\n",
        "plt.show()"
      ]
    },
    {
      "cell_type": "code",
      "source": [
        "#наибольший наклон получился для веса 0.1"
      ],
      "metadata": {
        "id": "ZMJ-d_Jw_xaT"
      },
      "execution_count": null,
      "outputs": []
    },
    {
      "cell_type": "code",
      "source": [
        "import matplotlib.pyplot as plt\n",
        "import numpy as np\n",
        "\n",
        "def w_sum(a,b):\n",
        "    assert(len(a) == len(b))\n",
        "    output = 0\n",
        "    for i in range(len(a)):\n",
        "        output += (a[i] * b[i])\n",
        "\n",
        "    return output\n",
        "\n",
        "weights = [0.1, 0.2, -.1] \n",
        "\n",
        "def neural_network(input,weights):\n",
        "    pred = w_sum(input,weights)\n",
        "    return pred\n",
        "\n",
        "games =  [8.5, 9.5, 9.9, 9.0] # среднее число игр, сыгранных каждым игроком в сезоне\n",
        "wins= [0.65, 0.8, 0.8, 0.9] # доля побед\n",
        "nfans = [1.2, 1.3, 0.5, 1.0] # число фанатов в тысячах\n",
        "\n",
        "win_or_lose_binary = [1, 1, 0, 1] # целевые значения выхода сети\n",
        "\n",
        "target = win_or_lose_binary[0]\n",
        "input = [games[0],wins[0],nfans[0]]\n",
        "\n",
        "pred = neural_network(input,weights)\n",
        "error = (pred - target)**2\n",
        "\n",
        "learning_rate  =0.01\n",
        "\n",
        "def ele_mul(number,vector): #реализовать умножение числа на вектор\n",
        "  res=[]\n",
        "  for i in range(len(vector)):\n",
        "    res.append(number*vector[i])\n",
        "  return res\n",
        "\n",
        "C = 2*(pred-target)\n",
        "weight_corrections = ele_mul(C,input)\n",
        "\n",
        "print(\"Weights:\" + str(weights))\n",
        "print(\"Weight corrections:\" + str(weight_corrections))\n",
        "\n",
        "n=30\n",
        "\n",
        "x1 = np.zeros(n)\n",
        "y1 = np.zeros(n)\n",
        "z1 = np.zeros(n)\n",
        "x2 = np.zeros(n)\n",
        "y2 = np.zeros(n)\n",
        "z2 = np.zeros(n)\n",
        "x3 = np.zeros(n)\n",
        "y3 = np.zeros(n)\n",
        "z3 = np.zeros(n)\n",
        "\n",
        "for i in range(n):\n",
        "  pred = neural_network(input,weights)\n",
        "  error = (pred - target)**2 #ошибка\n",
        "\n",
        "  C = 2*(pred-target)*learning_rate\n",
        "  weight_corrections = ele_mul(C,input) #вектор производных для весов\n",
        "  \n",
        "  x1[i] = weights[0] #градиентный спуск\n",
        "  weights[0] = weights[0]- weight_corrections[0]\n",
        "  y1[i] = error\n",
        "  #z1[i] = weight_corrections[0]\n",
        "  x2[i] = weights[1]#градиентный спуск\n",
        "  weights[1] = weights[1]- weight_corrections[1] \n",
        "  y2[i] = error\n",
        "  z2[i] = weight_corrections[1]\n",
        "  x3[i] = weights[2]\n",
        "  weights[2] = weights[2]- weight_corrections[2] \n",
        "  y3[i] = error\n",
        "  z3[i] = weight_corrections[2]\n",
        "\n",
        "  print(pred, neural_network(input,weights))\n",
        "  \n",
        "print(x1, y1, z1)\n",
        "plt.plot(x1,y1,'*')\n",
        "#plt.plot(x1,z1)\n",
        "plt.show()\n",
        "plt.plot(x2,y2,'*')\n",
        "#plt.plot(z2,y2)\n",
        "plt.show()\n",
        "plt.plot(x3,y3,'*')\n",
        "#plt.plot(x3,z3)\n",
        "plt.show()"
      ],
      "metadata": {
        "colab": {
          "base_uri": "https://localhost:8080/",
          "height": 1000
        },
        "id": "2X2dPlJCQdiB",
        "outputId": "946d24ff-f339-4fdf-8830-77d5a4f625d2"
      },
      "execution_count": null,
      "outputs": [
        {
          "output_type": "stream",
          "name": "stdout",
          "text": [
            "Weights:[0.1, 0.2, -0.1]\n",
            "Weight corrections:[-2.379999999999998, -0.18199999999999988, -0.33599999999999974]\n",
            "0.8600000000000001 1.067515\n",
            "1.067515 0.9674408912499999\n",
            "0.9674408912499999 1.0157016301946877\n",
            "1.0157016301946877 0.9924278888386118\n",
            "0.9924278888386118 1.0036516506075794\n",
            "1.0036516506075794 0.9982389914944949\n",
            "0.9982389914944949 1.0008492463517795\n",
            "1.0008492463517795 0.9995904509468545\n",
            "0.9995904509468545 1.0001975050308793\n",
            "1.0001975050308793 0.9999047531988585\n",
            "0.9999047531988585 1.0000459327698505\n",
            "1.0000459327698505 0.9999778489217395\n",
            "0.9999778489217395 1.0000106823574912\n",
            "1.0000106823574912 0.9999948484330998\n",
            "0.9999948484330998 1.0000024843431377\n",
            "1.0000024843431377 0.9999988019255218\n",
            "0.9999988019255218 1.0000005777714172\n",
            "1.0000005777714172 0.9999997213697341\n",
            "0.9999997213697341 1.0000001343694458\n",
            "1.0000001343694458 0.9999999352003347\n",
            "0.9999999352003347 1.0000000312496387\n",
            "1.0000000312496387 0.9999999849298618\n",
            "0.9999999849298618 1.0000000072675739\n",
            "1.0000000072675739 0.9999999964952127\n",
            "0.9999999964952127 1.0000000016901838\n",
            "1.0000000016901838 0.9999999991849087\n",
            "0.9999999991849087 1.0000000003930778\n",
            "1.0000000003930778 0.9999999998104382\n",
            "0.9999999998104382 1.0000000000914162\n",
            "1.0000000000914162 0.9999999999559147\n",
            "[0.1        0.1238     0.11232245 0.1178575  0.11518822 0.11647548\n",
            " 0.1158547  0.11615407 0.1160097  0.11607932 0.11604575 0.11606194\n",
            " 0.11605413 0.1160579  0.11605608 0.11605696 0.11605653 0.11605674\n",
            " 0.11605664 0.11605669 0.11605666 0.11605667 0.11605667 0.11605667\n",
            " 0.11605667 0.11605667 0.11605667 0.11605667 0.11605667 0.11605667] [1.96000000e-02 4.55827522e-03 1.06009556e-03 2.46541191e-04\n",
            " 5.73368674e-05 1.33345522e-05 3.10115096e-06 7.21219366e-07\n",
            " 1.67730427e-07 3.90082372e-08 9.07195313e-09 2.10981935e-09\n",
            " 4.90670268e-10 1.14112762e-10 2.65386415e-11 6.17196083e-12\n",
            " 1.43538246e-12 3.33819810e-13 7.76348251e-14 1.80551480e-14\n",
            " 4.19899662e-15 9.76539916e-16 2.27109067e-16 5.28176300e-17\n",
            " 1.22835344e-17 2.85672118e-18 6.64373873e-19 1.54510151e-19\n",
            " 3.59336801e-20 8.35692307e-21] [0. 0. 0. 0. 0. 0. 0. 0. 0. 0. 0. 0. 0. 0. 0. 0. 0. 0. 0. 0. 0. 0. 0. 0.\n",
            " 0. 0. 0. 0. 0. 0.]\n"
          ]
        },
        {
          "output_type": "display_data",
          "data": {
            "text/plain": [
              "<Figure size 432x288 with 1 Axes>"
            ],
            "image/png": "[encoded data removed]"
          },
          "metadata": {
            "needs_background": "light"
          }
        },
        {
          "output_type": "display_data",
          "data": {
            "text/plain": [
              "<Figure size 432x288 with 1 Axes>"
            ],
            "image/png": "[encoded data removed]"
          },
          "metadata": {
            "needs_background": "light"
          }
        },
        {
          "output_type": "display_data",
          "data": {
            "text/plain": [
              "<Figure size 432x288 with 1 Axes>"
            ],
            "image/png": "[encoded data removed]"
          },
          "metadata": {
            "needs_background": "light"
          }
        }
      ]
    }
  ]
}