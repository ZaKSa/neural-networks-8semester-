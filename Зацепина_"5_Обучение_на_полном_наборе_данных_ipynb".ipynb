{
  "nbformat": 4,
  "nbformat_minor": 0,
  "metadata": {
    "colab": {
      "provenance": [],
      "include_colab_link": true
    },
    "kernelspec": {
      "name": "python3",
      "display_name": "Python 3"
    },
    "language_info": {
      "name": "python"
    }
  },
  "cells": [
    {
      "cell_type": "markdown",
      "metadata": {
        "id": "view-in-github",
        "colab_type": "text"
      },
      "source": [
        "<a href=\"https://colab.research.google.com/github/ZaKSa/neural-networks-8semester-/blob/marathon/%D0%97%D0%B0%D1%86%D0%B5%D0%BF%D0%B8%D0%BD%D0%B0_%225_%D0%9E%D0%B1%D1%83%D1%87%D0%B5%D0%BD%D0%B8%D0%B5_%D0%BD%D0%B0_%D0%BF%D0%BE%D0%BB%D0%BD%D0%BE%D0%BC_%D0%BD%D0%B0%D0%B1%D0%BE%D1%80%D0%B5_%D0%B4%D0%B0%D0%BD%D0%BD%D1%8B%D1%85_ipynb%22.ipynb\" target=\"_parent\"><img src=\"https://colab.research.google.com/assets/colab-badge.svg\" alt=\"Open In Colab\"/></a>"
      ]
    },
    {
      "cell_type": "markdown",
      "source": [
        "Зацепина Ксения 6407\n",
        "1. Сделано\n",
        "\n",
        "2. Сделано\n",
        "\n",
        "3. **Вывод:**\n",
        "Прогноз - человеку следует стоять.\n",
        "\n",
        "4. Сделано\n"
      ],
      "metadata": {
        "id": "bgbW5Pl_CPMf"
      }
    },
    {
      "cell_type": "code",
      "execution_count": null,
      "metadata": {
        "id": "5gjBriIhfbcD"
      },
      "outputs": [],
      "source": [
        "#Для веса 0.1(в 3 день) наклон больше - он корректируется на большую величину, потому что входное значение значительно больше, данные предствалены в разных размерностях\n",
        "#для этого данные предварительно нормализуют"
      ]
    },
    {
      "cell_type": "markdown",
      "source": [
        "1. Задача о светофоре. Обучение на 1 точке данных"
      ],
      "metadata": {
        "id": "KJfFFE1mi9lV"
      }
    },
    {
      "cell_type": "code",
      "execution_count": null,
      "metadata": {
        "colab": {
          "base_uri": "https://localhost:8080/"
        },
        "outputId": "0514d202-e03d-4994-c5a8-aed1a2dc0a6e",
        "id": "QbhIXMsRI4G6"
      },
      "outputs": [
        {
          "output_type": "stream",
          "name": "stdout",
          "text": [
            "Weight corrections: [-0.4 -0.  -0.4]\n",
            "Error:0.03999999999999998 Prediction:-0.19999999999999996\n",
            "Weight corrections: [-0.24 -0.   -0.24]\n",
            "Error:0.014399999999999972 Prediction:-0.11999999999999988\n",
            "Weight corrections: [-0.144 -0.    -0.144]\n",
            "Error:0.005183999999999977 Prediction:-0.07199999999999984\n",
            "Weight corrections: [-0.0864 -0.     -0.0864]\n",
            "Error:0.0018662399999999919 Prediction:-0.043199999999999905\n",
            "Weight corrections: [-0.05184 -0.      -0.05184]\n",
            "Error:0.000671846399999997 Prediction:-0.025919999999999943\n",
            "Weight corrections: [-0.031104 -0.       -0.031104]\n",
            "Error:0.00024186470400000033 Prediction:-0.01555200000000001\n",
            "Weight corrections: [-0.0186624 -0.        -0.0186624]\n",
            "Error:8.707129344000177e-05 Prediction:-0.009331200000000095\n",
            "Weight corrections: [-0.01119744 -0.         -0.01119744]\n",
            "Error:3.134566563840064e-05 Prediction:-0.005598720000000057\n",
            "Weight corrections: [-0.00671846 -0.         -0.00671846]\n",
            "Error:1.1284439629823931e-05 Prediction:-0.0033592319999999898\n",
            "Weight corrections: [-0.00403108 -0.         -0.00403108]\n",
            "Error:4.062398266736973e-06 Prediction:-0.0020155392000000827\n"
          ]
        }
      ],
      "source": [
        "import numpy as np\n",
        "weights = np.array([0.5,0.48,-0.7]) # начальные веса\n",
        "learning_rate = 0.1\n",
        "\n",
        "#набор данных, состоящий из 6 наблюдений\n",
        "streetlights = np.array( [ [ 1, 0, 1 ], #единица-секции светофора, которые включены\n",
        "                           [ 0, 1, 1 ],\n",
        "                           [ 0, 0, 1 ],\n",
        "                           [ 1, 1, 1 ],\n",
        "                           [ 0, 1, 1 ],\n",
        "                           [ 1, 0, 1 ] ] )\n",
        "#метки класса для 6 наблюдений\n",
        "walk_vs_stop = np.array( [ 0, 1, 0, 1, 1, 0 ] )\n",
        "\n",
        "input = streetlights[0] # [1,0,1]\n",
        "goal_prediction = walk_vs_stop[0] #  0 - стоять, 1 - идти\n",
        "\n",
        "for iteration in range(10):\n",
        "    prediction = input.dot(weights)\n",
        "    error = (prediction - goal_prediction) ** 2 \n",
        "\n",
        "    weight_corrections = 2* (prediction - goal_prediction) * input #получаем вектор из 3х величин для коррекции 3х весов\n",
        "    print(\"Weight corrections: \"+ str(weight_corrections))\n",
        "\n",
        "    weights = weights - (learning_rate *  weight_corrections)\t\n",
        "\n",
        "    print(\"Error:\" + str(error) + \" Prediction:\" + str(prediction)) "
      ]
    },
    {
      "cell_type": "markdown",
      "source": [
        "Закодируем поведение людей: 0-надо стоять, 1-надо переходить дорогу"
      ],
      "metadata": {
        "id": "QdIb8YbfDJpY"
      }
    },
    {
      "cell_type": "markdown",
      "source": [
        "Градиентный спуск бывает *полный*, *стохастический*, *пакетный* "
      ],
      "metadata": {
        "id": "CQpyKpHMDVkV"
      }
    },
    {
      "cell_type": "markdown",
      "source": [
        "В случае обновления весов после каджой точки данных-**стохастический ГС**\n",
        "\n",
        "Среднее значения для корректировки весов по всему набору данных - **полный ГС**\n",
        "\n",
        "Обучающая выборка делится на пакеты и для каждого пакета свое обновление весов - **пакетный ГС**"
      ],
      "metadata": {
        "id": "KlG607UjD3DG"
      }
    },
    {
      "cell_type": "markdown",
      "source": [
        "2. Задача о светофоре.Реализуйте стохастический градиентный спуск на полном наборе данных. Выведите веса сети после обучения. Постройте график error/iteration. "
      ],
      "metadata": {
        "id": "GOj3YyuhjFMg"
      }
    },
    {
      "cell_type": "markdown",
      "source": [
        "На каждой итерации ГС пробегаем по каждой точке данных, вычисляем величину коррекции весов и сразу обновляем веса\n",
        "\n",
        "*обновлять веса после каждого обучающего примера*\n",
        "\n",
        "прогноз вывести и суммарную/среднюю ошибку"
      ],
      "metadata": {
        "id": "FmgjSQsPE8Iq"
      }
    },
    {
      "cell_type": "code",
      "source": [
        "import numpy as np\n",
        "\n",
        "weights = np.array([0.5,0.48,-0.7])\n",
        "learning_rate = 0.1\n",
        "\n",
        "streetlights = np.array( [[ 1, 0, 1 ],\n",
        "                          [ 0, 1, 1 ],\n",
        "                          [ 0, 0, 1 ],\n",
        "                          [ 1, 1, 1 ],\n",
        "                          [ 0, 1, 1 ],\n",
        "                          [ 1, 0, 1 ] ] )\n",
        "\n",
        "walk_vs_stop = np.array( [ 0, 1, 0, 1, 1, 0 ] )\n",
        "\n",
        "input = streetlights[0] # [1,0,1]\n",
        "goal_prediction = walk_vs_stop[0] \n",
        "\n",
        "import matplotlib.pyplot as plt\n",
        "\n",
        "error = np.zeros((10,1))\n",
        "\n",
        "for iteration in range(10):\n",
        "    sum_error = 0\n",
        "    for i in range(len(streetlights)):\n",
        "      input = streetlights[i] #берем каждое значение\n",
        "      goal_prediction = walk_vs_stop[i] \n",
        "\n",
        "      prediction = np.dot(input,weights)\n",
        "      sum_error += (prediction - goal_prediction) ** 2 \n",
        "      \n",
        "      weight_corrections = 2* (prediction - goal_prediction) * input #получаем вектор из 3х величин для коррекции 3х весов\n",
        "      weights = weights - (learning_rate *  weight_corrections)\t\n",
        "\n",
        "      print(\"Prediction:\",prediction)\n",
        "\n",
        "    sum_error/=len(streetlights)\n",
        "    print(\"Error:\",sum_error,'\\n' )\n",
        "    error[iteration]=sum_error \n",
        "\n",
        "\n",
        "plt.plot(range(1, streetlights+1), error)\n",
        "plt.xlabel(\"Iteration\")\n",
        "plt.ylabel(\"Error\")\n",
        "plt.show()"
      ],
      "metadata": {
        "id": "ONWp6pHSjB0_",
        "colab": {
          "base_uri": "https://localhost:8080/",
          "height": 1000
        },
        "outputId": "c6661c69-df19-4036-ee77-6b6b089f6ec0"
      },
      "execution_count": null,
      "outputs": [
        {
          "output_type": "stream",
          "name": "stdout",
          "text": [
            "Prediction: -0.19999999999999996\n",
            "Prediction: -0.17999999999999994\n",
            "Prediction: -0.42399999999999993\n",
            "Prediction: 0.9168000000000001\n",
            "Prediction: 0.41008\n",
            "Prediction: 0.35206400000000004\n",
            "Error: 0.34850881774933323 \n",
            "\n",
            "Prediction: 0.21123840000000005\n",
            "Prediction: 0.53338752\n",
            "Prediction: -0.22391398399999998\n",
            "Prediction: 1.2087948287999999\n",
            "Prediction: 0.68129737728\n",
            "Prediction: 0.24507092582400009\n",
            "Error: 0.08628545688392053 \n",
            "\n",
            "Prediction: 0.1470425554944\n",
            "Prediction: 0.73035573010432\n",
            "Prediction: -0.18164347070054399\n",
            "Prediction: 1.1983399901790206\n",
            "Prediction: 0.7952061361310925\n",
            "Prediction: 0.1401058581180581\n",
            "Error: 0.03803880428726757 \n",
            "\n",
            "Prediction: 0.08406351487083485\n",
            "Prediction: 0.8322898070808769\n",
            "Prediction: -0.15531583783641176\n",
            "Prediction: 1.1697330371585457\n",
            "Prediction: 0.8625438369523901\n",
            "Prediction: 0.07464133281971158\n",
            "Error: 0.018765203675362243 \n",
            "\n",
            "Prediction: 0.04478479969182697\n",
            "Prediction: 0.8936410756691264\n",
            "Prediction: -0.13332148672744953\n",
            "Prediction: 1.1443130941556863\n",
            "Prediction: 0.9051237050846914\n",
            "Prediction: 0.036056983347548005\n",
            "Error: 0.010370067403540831 \n",
            "\n",
            "Prediction: 0.021634190008528814\n",
            "Prediction: 0.9315359883795993\n",
            "Prediction: -0.11438998157717041\n",
            "Prediction: 1.1228628872495614\n",
            "Prediction: 0.932654434443369\n",
            "Prediction: 0.013875270856133104\n",
            "Error: 0.006343944059080143 \n",
            "\n",
            "Prediction: 0.008325162513679873\n",
            "Prediction: 0.9551525739920589\n",
            "Prediction: -0.0980860510726968\n",
            "Prediction: 1.1047593883922675\n",
            "Prediction: 0.9508049992528678\n",
            "Prediction: 0.0015170377168549493\n",
            "Error: 0.004183075387286545 \n",
            "\n",
            "Prediction: 0.000910222630112964\n",
            "Prediction: 0.969997547482327\n",
            "Prediction: -0.08406667995304348\n",
            "Prediction: 1.089425168514651\n",
            "Prediction: 0.9630417970741446\n",
            "Prediction: -0.005018466748478237\n",
            "Error: 0.002892689479421175 \n",
            "\n",
            "Prediction: -0.003011080049086942\n",
            "Prediction: 0.9794309876039998\n",
            "Prediction: -0.07202702524148083\n",
            "Prediction: 1.0763981773019247\n",
            "Prediction: 0.971504726689926\n",
            "Prediction: -0.008147656760711046\n",
            "Error: 0.0020558482743180373 \n",
            "\n",
            "Prediction: -0.00488859405642663\n",
            "Prediction: 0.9855100861773832\n",
            "Prediction: -0.06169696806360392\n",
            "Prediction: 1.065307239713422\n",
            "Prediction: 0.9775225494337819\n",
            "Prediction: -0.009323185828737021\n",
            "Error: 0.0014829274932695096 \n",
            "\n"
          ]
        },
        {
          "output_type": "display_data",
          "data": {
            "text/plain": [
              "<Figure size 432x288 with 1 Axes>"
            ],
            "image/png": "[encoded data removed]"
          },
          "metadata": {
            "needs_background": "light"
          }
        }
      ]
    },
    {
      "cell_type": "markdown",
      "source": [
        "3. Попробуйте получить прогноз для какого-нибудь примера на ваше усмотрение. Попробуйте получить прогноз для какого-нибудь примера, где яркость секций светоыора измеряется от 0 до 1. Например, [0.9, 0.1, 0.7]. Сделайте выводы о полученных прогнозах сети. "
      ],
      "metadata": {
        "id": "K4EwHhZ_KLZn"
      }
    },
    {
      "cell_type": "code",
      "source": [
        "input_intensive=[0.9, 0.1, 0.7]\n",
        "prediction=np.dot(input_intensive,weights)\n",
        "print(\" Prediction1:\" ,prediction) \n",
        "\n",
        "input_=[1, 0, 0]\n",
        "prediction=np.dot(input_,weights)\n",
        "print(\" Prediction2:\" ,prediction) "
      ],
      "metadata": {
        "id": "x8XGfjVaJm6D",
        "colab": {
          "base_uri": "https://localhost:8080/"
        },
        "outputId": "a46fc7a5-3f6b-4072-80e0-6eac25be450a"
      },
      "execution_count": null,
      "outputs": [
        {
          "output_type": "stream",
          "name": "stdout",
          "text": [
            " Prediction1: 0.11062096486945663\n",
            " Prediction2: 0.05046498361733431\n"
          ]
        }
      ]
    },
    {
      "cell_type": "markdown",
      "source": [
        "Prediction1 с интенсивностью: 0.11062096486945663\n",
        "Prediction2 с целыми значениями: 0.05046498361733431\n",
        "\n",
        "Prediction1 больше чем Prediction2.\n",
        "\n",
        "***********************************\n",
        "\n",
        "Прогноз - человеку следует стоять. Если проверить, то получается зеленый(который говорит о том, что можно идти) - не горит (0,1 -слабая интенсивность)"
      ],
      "metadata": {
        "id": "ZUtygGqo3NHh"
      }
    },
    {
      "cell_type": "markdown",
      "source": [
        "4. Реализуйте полный градиентный спуск или стохастический градиентный спуск по мини-батчам (размер батча = 2) на полном наборе данных. Выведите веса сети после обучения. Постройте график error/iteration."
      ],
      "metadata": {
        "id": "bWYDkrvNKkFX"
      }
    },
    {
      "cell_type": "markdown",
      "source": [
        "полный градиентный спуск:\n",
        "\n",
        "На каждой итерации ГС проходим по каждому значению и считаем величину коррекции веса, но не обновляем веса. Просмотрим все, веса корректируем на среднюю величину по всем точкам данных"
      ],
      "metadata": {
        "id": "qmh6ToHoksqX"
      }
    },
    {
      "cell_type": "code",
      "source": [
        "import numpy as np\n",
        "\n",
        "weights = np.array([0.5,0.48,-0.7])\n",
        "learning_rate = 0.1\n",
        "\n",
        "streetlights = np.array( [[ 1, 0, 1 ],\n",
        "                          [ 0, 1, 1 ],\n",
        "                          [ 0, 0, 1 ],\n",
        "                          [ 1, 1, 1 ],\n",
        "                          [ 0, 1, 1 ],\n",
        "                          [ 1, 0, 1 ] ] )\n",
        "\n",
        "walk_vs_stop = np.array( [ 0, 1, 0, 1, 1, 0 ] )\n",
        "\n",
        "input = streetlights[0] # [1,0,1]\n",
        "goal_prediction = walk_vs_stop[0] \n",
        "\n",
        "import matplotlib.pyplot as plt\n",
        "\n",
        "error = np.zeros((10))\n",
        "\n",
        "for iteration in range(10):\n",
        "\n",
        "    weight_corrections=0\n",
        "    sum_error = 0\n",
        "    \n",
        "    for i in range(len(streetlights)):\n",
        "      input = streetlights[i] \n",
        "      goal_prediction = walk_vs_stop[i] \n",
        "\n",
        "      prediction = np.dot(input,weights)\n",
        "      sum_error += (prediction - goal_prediction) ** 2 \n",
        "      \n",
        "      weight_corrections += 2* (prediction - goal_prediction) * input #получаем вектор из 3х величин для коррекции 3х весов\n",
        "      \n",
        "\n",
        "      print(\"Prediction:\",prediction)\n",
        "    \n",
        "    sum_error/=len(streetlights)\n",
        "\n",
        "    print(\"Error:\",sum_error,'\\n' )\n",
        "    error[iteration]=sum_error \n",
        "    weights = weights - (learning_rate *  weight_corrections)\t\n",
        "\n",
        "\n",
        "plt.plot(range(1, streetlights+1), error, 'r')\n",
        "plt.title(\"Schedule of error changes in the learning process\")\n",
        "plt.xlabel(\"Iterations\")\n",
        "plt.ylabel(\"Error\")\n",
        "plt.show()"
      ],
      "metadata": {
        "id": "fADAF5YuLkj0",
        "colab": {
          "base_uri": "https://localhost:8080/",
          "height": 1000
        },
        "outputId": "7403cf94-3976-4d24-9977-344cb2419b96"
      },
      "execution_count": null,
      "outputs": [
        {
          "output_type": "stream",
          "name": "stdout",
          "text": [
            "Prediction: -0.19999999999999996\n",
            "Prediction: -0.21999999999999997\n",
            "Prediction: -0.7\n",
            "Prediction: 0.28\n",
            "Prediction: -0.21999999999999997\n",
            "Prediction: -0.19999999999999996\n",
            "Error: 0.6775333333333333 \n",
            "\n",
            "Prediction: 0.876\n",
            "Prediction: 1.2640000000000002\n",
            "Prediction: 0.15200000000000002\n",
            "Prediction: 1.988\n",
            "Prediction: 1.2640000000000002\n",
            "Prediction: 0.876\n",
            "Error: 0.44556533333333337 \n",
            "\n",
            "Prediction: -0.3560000000000001\n",
            "Prediction: 0.2767999999999998\n",
            "Prediction: -0.5320000000000001\n",
            "Prediction: 0.45279999999999987\n",
            "Prediction: 0.2767999999999998\n",
            "Prediction: -0.3560000000000001\n",
            "Error: 0.3136600533333335 \n",
            "\n",
            "Prediction: 0.5433600000000001\n",
            "Prediction: 1.3230400000000002\n",
            "Prediction: 0.11551999999999996\n",
            "Prediction: 1.7508800000000004\n",
            "Prediction: 1.3230400000000002\n",
            "Prediction: 0.5433600000000001\n",
            "Error: 0.22939258453333353 \n",
            "\n",
            "Prediction: -0.34400000000000025\n",
            "Prediction: 0.5238079999999997\n",
            "Prediction: -0.40432000000000023\n",
            "Prediction: 0.5841279999999998\n",
            "Prediction: 0.5238079999999997\n",
            "Prediction: -0.34400000000000025\n",
            "Error: 0.17110230408533353 \n",
            "\n",
            "Prediction: 0.36888960000000026\n",
            "Prediction: 1.2895744000000002\n",
            "Prediction: 0.08779520000000007\n",
            "Prediction: 1.5706688000000004\n",
            "Prediction: 1.2895744000000002\n",
            "Prediction: 0.36888960000000026\n",
            "Error: 0.12887276944725354 \n",
            "\n",
            "Prediction: -0.28787840000000026\n",
            "Prediction: 0.6645324799999996\n",
            "Prediction: -0.30728320000000026\n",
            "Prediction: 0.6839372799999996\n",
            "Prediction: 0.6645324799999996\n",
            "Prediction: -0.28787840000000026\n",
            "Error: 0.09752391138317673 \n",
            "\n",
            "Prediction: 0.2644930560000004\n",
            "Prediction: 1.235939584\n",
            "Prediction: 0.06672435200000015\n",
            "Prediction: 1.4337082880000005\n",
            "Prediction: 1.235939584\n",
            "Prediction: 0.2644930560000004\n",
            "Error: 0.07396719102838935 \n",
            "\n",
            "Prediction: -0.22830540800000027\n",
            "Prediction: 0.7545625087999996\n",
            "Prediction: -0.2335352320000002\n",
            "Prediction: 0.7597923327999996\n",
            "Prediction: 0.7545625087999996\n",
            "Prediction: -0.22830540800000027\n",
            "Error: 0.05616071179735896 \n",
            "\n",
            "Prediction: 0.1953040281600003\n",
            "Prediction: 1.1850247782400003\n",
            "Prediction: 0.05071050752000017\n",
            "Prediction: 1.3296182988800003\n",
            "Prediction: 1.1850247782400003\n",
            "Prediction: 0.1953040281600003\n",
            "Error: 0.0426625737476747 \n",
            "\n"
          ]
        },
        {
          "output_type": "display_data",
          "data": {
            "text/plain": [
              "<Figure size 432x288 with 1 Axes>"
            ],
            "image/png": "[encoded data removed]"
          },
          "metadata": {
            "needs_background": "light"
          }
        }
      ]
    },
    {
      "cell_type": "markdown",
      "source": [
        "![image.png](data:image/png;base64,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)"
      ],
      "metadata": {
        "id": "azIy0AIKmPIh"
      }
    },
    {
      "cell_type": "markdown",
      "source": [
        "Полученный график ошибки убывает с увеличением количества итераций"
      ],
      "metadata": {
        "id": "bTwvs0BWnNUA"
      }
    }
  ]
}