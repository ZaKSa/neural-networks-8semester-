{
  "nbformat": 4,
  "nbformat_minor": 0,
  "metadata": {
    "colab": {
      "provenance": [],
      "include_colab_link": true
    },
    "kernelspec": {
      "name": "python3",
      "display_name": "Python 3"
    },
    "language_info": {
      "name": "python"
    }
  },
  "cells": [
    {
      "cell_type": "markdown",
      "metadata": {
        "id": "view-in-github",
        "colab_type": "text"
      },
      "source": [
        "<a href=\"https://colab.research.google.com/github/ZaKSa/neural-networks-8semester-/blob/main/%D0%97%D0%B0%D1%86%D0%B5%D0%BF%D0%B8%D0%BD%D0%B0_%D0%9A%D1%81%D0%B5%D0%BD%D0%B8%D1%8F_6407_%D0%9B%D0%B5%D0%BA%D1%86%D0%B8%D1%8F_2_%D0%9F%D1%80%D0%B5%D0%B4%D1%81%D1%82%D0%B0%D0%B2%D0%BB%D0%B5%D0%BD%D0%B8%D0%B5_%D0%B4%D0%B0%D0%BD%D0%BD%D1%8B%D1%85_%D0%B4%D0%BB%D1%8F_%D0%BD%D0%B5%D0%B9%D1%80%D0%BE%D0%BD%D0%BD%D1%8B%D1%85_%D1%81%D0%B5%D1%82%D0%B5%D0%B9_ipynb%22.ipynb\" target=\"_parent\"><img src=\"https://colab.research.google.com/assets/colab-badge.svg\" alt=\"Open In Colab\"/></a>"
      ]
    },
    {
      "cell_type": "markdown",
      "source": [
        "Скаляры"
      ],
      "metadata": {
        "id": "mL-ploky67aJ"
      }
    },
    {
      "cell_type": "code",
      "execution_count": null,
      "metadata": {
        "id": "Mhzah0RH6yuW"
      },
      "outputs": [],
      "source": [
        "import numpy as np"
      ]
    },
    {
      "cell_type": "code",
      "source": [
        "x = np.array(12)"
      ],
      "metadata": {
        "id": "X6ve7Svq7BEU"
      },
      "execution_count": null,
      "outputs": []
    },
    {
      "cell_type": "code",
      "source": [
        "x"
      ],
      "metadata": {
        "colab": {
          "base_uri": "https://localhost:8080/"
        },
        "id": "O-ucxQg87Hm1",
        "outputId": "65e0b4e5-57fd-4a99-83c8-e569f06d169b"
      },
      "execution_count": null,
      "outputs": [
        {
          "output_type": "execute_result",
          "data": {
            "text/plain": [
              "array(12)"
            ]
          },
          "metadata": {},
          "execution_count": 3
        }
      ]
    },
    {
      "cell_type": "code",
      "source": [
        "x.ndim"
      ],
      "metadata": {
        "colab": {
          "base_uri": "https://localhost:8080/"
        },
        "id": "PSkX-cAH7I4E",
        "outputId": "5dd6618c-7b2f-4e4c-d406-f29754cba832"
      },
      "execution_count": null,
      "outputs": [
        {
          "output_type": "execute_result",
          "data": {
            "text/plain": [
              "0"
            ]
          },
          "metadata": {},
          "execution_count": 4
        }
      ]
    },
    {
      "cell_type": "markdown",
      "source": [
        "Векторы"
      ],
      "metadata": {
        "id": "fLzT-BOH7NbB"
      }
    },
    {
      "cell_type": "code",
      "source": [
        "x = np.array([1, 5 ,6 ,7,8])"
      ],
      "metadata": {
        "id": "JZzLHTzY7Kj0"
      },
      "execution_count": null,
      "outputs": []
    },
    {
      "cell_type": "code",
      "source": [
        "x"
      ],
      "metadata": {
        "colab": {
          "base_uri": "https://localhost:8080/"
        },
        "id": "DAGgg0ay7nwF",
        "outputId": "170be6ae-1dc9-4c3d-bb5d-02fde851d55f"
      },
      "execution_count": null,
      "outputs": [
        {
          "output_type": "execute_result",
          "data": {
            "text/plain": [
              "array([1, 5, 6, 7, 8])"
            ]
          },
          "metadata": {},
          "execution_count": 6
        }
      ]
    },
    {
      "cell_type": "code",
      "source": [
        "x.ndim"
      ],
      "metadata": {
        "colab": {
          "base_uri": "https://localhost:8080/"
        },
        "id": "DeCND9I77oXs",
        "outputId": "5d2078a0-46fd-4655-b9e6-bf56136b22fc"
      },
      "execution_count": null,
      "outputs": [
        {
          "output_type": "execute_result",
          "data": {
            "text/plain": [
              "1"
            ]
          },
          "metadata": {},
          "execution_count": 7
        }
      ]
    },
    {
      "cell_type": "markdown",
      "source": [
        "Матрицы"
      ],
      "metadata": {
        "id": "oVvMCnEz7yaw"
      }
    },
    {
      "cell_type": "code",
      "source": [
        "x = np.array([[1, 5 ,6 ,7,8],\n",
        "              [11, 15 ,16 ,17,18],\n",
        "              [21, 25 ,26 ,27,28]\n",
        "])"
      ],
      "metadata": {
        "id": "RKH0JP007psc"
      },
      "execution_count": null,
      "outputs": []
    },
    {
      "cell_type": "code",
      "source": [
        "x.shape"
      ],
      "metadata": {
        "colab": {
          "base_uri": "https://localhost:8080/"
        },
        "id": "qIcRoY5n9ETm",
        "outputId": "9aaa45b8-6d79-49d1-bfe3-9189b970196c"
      },
      "execution_count": null,
      "outputs": [
        {
          "output_type": "execute_result",
          "data": {
            "text/plain": [
              "(3, 5)"
            ]
          },
          "metadata": {},
          "execution_count": 9
        }
      ]
    },
    {
      "cell_type": "code",
      "source": [
        "x.ndim"
      ],
      "metadata": {
        "colab": {
          "base_uri": "https://localhost:8080/"
        },
        "id": "BuGOr6bQ8bi1",
        "outputId": "d01bb231-52b3-4540-c3c4-13a2be99da5c"
      },
      "execution_count": null,
      "outputs": [
        {
          "output_type": "execute_result",
          "data": {
            "text/plain": [
              "2"
            ]
          },
          "metadata": {},
          "execution_count": 10
        }
      ]
    },
    {
      "cell_type": "markdown",
      "source": [
        "Тензоры третьего и высшего рангов"
      ],
      "metadata": {
        "id": "RjW51xA385wR"
      }
    },
    {
      "cell_type": "code",
      "source": [
        "x = np.array([[[1, 5 ,6 ,7,8],\n",
        "              [11, 15 ,16 ,17,18],\n",
        "              [21, 25 ,26 ,27,28]],\n",
        "              [[1, 5 ,6 ,7,8],\n",
        "              [11, 15 ,16 ,17,18],\n",
        "              [21, 25 ,26 ,27,28]],\n",
        "              [[1, 5 ,6 ,7,8],\n",
        "              [11, 15 ,16 ,17,18],\n",
        "              [21, 25 ,26 ,27,28]]])"
      ],
      "metadata": {
        "id": "RYvWL5088eW1"
      },
      "execution_count": null,
      "outputs": []
    },
    {
      "cell_type": "code",
      "source": [
        "x.shape"
      ],
      "metadata": {
        "colab": {
          "base_uri": "https://localhost:8080/"
        },
        "id": "YP2QkRF89Kyq",
        "outputId": "17ef25dd-f2b6-4208-9bc0-f89ba01ae956"
      },
      "execution_count": null,
      "outputs": [
        {
          "output_type": "execute_result",
          "data": {
            "text/plain": [
              "(3, 3, 5)"
            ]
          },
          "metadata": {},
          "execution_count": 12
        }
      ]
    },
    {
      "cell_type": "code",
      "source": [
        "x.ndim"
      ],
      "metadata": {
        "colab": {
          "base_uri": "https://localhost:8080/"
        },
        "id": "N-W5Hsbh9LjF",
        "outputId": "d3af263d-cd86-4dbc-9ede-8f7816e81f04"
      },
      "execution_count": null,
      "outputs": [
        {
          "output_type": "execute_result",
          "data": {
            "text/plain": [
              "3"
            ]
          },
          "metadata": {},
          "execution_count": 13
        }
      ]
    },
    {
      "cell_type": "markdown",
      "source": [
        "Создайте тензор с 4 осями"
      ],
      "metadata": {
        "id": "BP2JVOth9gab"
      }
    },
    {
      "cell_type": "code",
      "source": [
        "x2 = np.array([[[[1, 5 ,6 ,7,8], [11, 15 ,16 ,17,18]],\n",
        "              [[11, 15 ,16 ,17,18],[21, 25 ,26 ,27,28]],\n",
        "              [[1, 5 ,6 ,7,8],[1, 5 ,6 ,7,8]],\n",
        "              [[11, 15 ,16 ,17,18],[1, 5 ,6 ,7,8]],\n",
        "              [[21, 25 ,26 ,27,28],[1, 5 ,6 ,7,8]],\n",
        "              [[1, 5 ,6 ,7,8],[1, 5 ,6 ,7,8]],\n",
        "               [[1, 5 ,6 ,7,8],[1, 5 ,6 ,7,8]],\n",
        "              [[11, 15 ,16 ,17,18],[1, 5 ,6 ,7,8]],\n",
        "              [[21, 25 ,26 ,27,28],[1, 5 ,6 ,7,8]]]])\n"
      ],
      "metadata": {
        "id": "xNC0ocU49SMk"
      },
      "execution_count": null,
      "outputs": []
    },
    {
      "cell_type": "code",
      "source": [
        "x2.ndim"
      ],
      "metadata": {
        "colab": {
          "base_uri": "https://localhost:8080/"
        },
        "id": "BSSaeST7bD1R",
        "outputId": "108dec36-e9e1-4e4f-b8a3-d712e13dc082"
      },
      "execution_count": null,
      "outputs": [
        {
          "output_type": "execute_result",
          "data": {
            "text/plain": [
              "4"
            ]
          },
          "metadata": {},
          "execution_count": 50
        }
      ]
    },
    {
      "cell_type": "markdown",
      "source": [
        "#Загрузка данных MNIST"
      ],
      "metadata": {
        "id": "2mfwoxNq-2RD"
      }
    },
    {
      "cell_type": "code",
      "source": [
        "from tensorflow.keras.datasets import mnist"
      ],
      "metadata": {
        "id": "JpUMzc95-bhl"
      },
      "execution_count": null,
      "outputs": []
    },
    {
      "cell_type": "code",
      "source": [
        "(train_images, train_labels), (test_images, test_labels) = mnist.load_data()"
      ],
      "metadata": {
        "colab": {
          "base_uri": "https://localhost:8080/"
        },
        "id": "YVCyAdLF_CPN",
        "outputId": "fceef51a-8124-4076-aeea-7d6f14c25ed1"
      },
      "execution_count": null,
      "outputs": [
        {
          "output_type": "stream",
          "name": "stdout",
          "text": [
            "Downloading data from https://storage.googleapis.com/tensorflow/tf-keras-datasets/mnist.npz\n",
            "11490434/11490434 [==============================] - 0s 0us/step\n"
          ]
        }
      ]
    },
    {
      "cell_type": "code",
      "source": [
        "train_images.shape"
      ],
      "metadata": {
        "colab": {
          "base_uri": "https://localhost:8080/"
        },
        "id": "o-jzeQTS_Ee2",
        "outputId": "3b0ac1d1-ac28-4fa5-99cc-dc3de12fa80f"
      },
      "execution_count": null,
      "outputs": [
        {
          "output_type": "execute_result",
          "data": {
            "text/plain": [
              "(60000, 28, 28)"
            ]
          },
          "metadata": {},
          "execution_count": 16
        }
      ]
    },
    {
      "cell_type": "code",
      "source": [
        "train_images.ndim"
      ],
      "metadata": {
        "colab": {
          "base_uri": "https://localhost:8080/"
        },
        "id": "Y1v-oqB0_cjm",
        "outputId": "273090da-8b1c-4ade-921c-5b16fee11050"
      },
      "execution_count": null,
      "outputs": [
        {
          "output_type": "execute_result",
          "data": {
            "text/plain": [
              "3"
            ]
          },
          "metadata": {},
          "execution_count": 17
        }
      ]
    },
    {
      "cell_type": "code",
      "source": [
        "train_images.dtype"
      ],
      "metadata": {
        "colab": {
          "base_uri": "https://localhost:8080/"
        },
        "id": "2QOoMYeG_eWN",
        "outputId": "187d5d2d-a732-4997-bec5-9757c559e1d8"
      },
      "execution_count": null,
      "outputs": [
        {
          "output_type": "execute_result",
          "data": {
            "text/plain": [
              "dtype('uint8')"
            ]
          },
          "metadata": {},
          "execution_count": 18
        }
      ]
    },
    {
      "cell_type": "code",
      "source": [
        "np.max(train_images[0])"
      ],
      "metadata": {
        "colab": {
          "base_uri": "https://localhost:8080/"
        },
        "id": "Q5DXCT5z_hlF",
        "outputId": "1186d1c0-419d-4188-b7e4-60b913929d88"
      },
      "execution_count": null,
      "outputs": [
        {
          "output_type": "execute_result",
          "data": {
            "text/plain": [
              "255"
            ]
          },
          "metadata": {},
          "execution_count": 19
        }
      ]
    },
    {
      "cell_type": "code",
      "source": [
        "np.min(train_images[0])"
      ],
      "metadata": {
        "colab": {
          "base_uri": "https://localhost:8080/"
        },
        "id": "Pd330lFC_s29",
        "outputId": "9ce7b819-2612-481f-e831-774e1ff2d811"
      },
      "execution_count": null,
      "outputs": [
        {
          "output_type": "execute_result",
          "data": {
            "text/plain": [
              "0"
            ]
          },
          "metadata": {},
          "execution_count": 20
        }
      ]
    },
    {
      "cell_type": "markdown",
      "source": [
        "Вывод четвертого изображения из обучающей выборки на экран"
      ],
      "metadata": {
        "id": "R1iZC3aD_1zN"
      }
    },
    {
      "cell_type": "code",
      "source": [
        "import matplotlib.pyplot as plt\n",
        "plt.imshow(train_images[4], cmap=plt.cm.binary)\n",
        "plt.show()"
      ],
      "metadata": {
        "colab": {
          "base_uri": "https://localhost:8080/",
          "height": 265
        },
        "id": "z_PJ6sbF_zAe",
        "outputId": "976b4ec8-1477-430c-fa19-fdd50a9d31ce"
      },
      "execution_count": null,
      "outputs": [
        {
          "output_type": "display_data",
          "data": {
            "text/plain": [
              "<Figure size 432x288 with 1 Axes>"
            ],
            "image/png": "[encoded data removed]"
          },
          "metadata": {
            "needs_background": "light"
          }
        }
      ]
    },
    {
      "cell_type": "markdown",
      "source": [
        "#Манипулирование тензорами"
      ],
      "metadata": {
        "id": "W5-aYhf3ASVT"
      }
    },
    {
      "cell_type": "markdown",
      "source": [
        "Получение среза"
      ],
      "metadata": {
        "id": "SL0VtoXhAqsd"
      }
    },
    {
      "cell_type": "code",
      "source": [
        "one_image = train_images[4]"
      ],
      "metadata": {
        "id": "kwn0EA-pAMTV"
      },
      "execution_count": null,
      "outputs": []
    },
    {
      "cell_type": "code",
      "source": [
        "my_slice = train_images[10:100]"
      ],
      "metadata": {
        "id": "_wWA5JstAzYq"
      },
      "execution_count": null,
      "outputs": []
    },
    {
      "cell_type": "code",
      "source": [
        "my_slice.shape"
      ],
      "metadata": {
        "colab": {
          "base_uri": "https://localhost:8080/"
        },
        "id": "AmDLzhrAAuSW",
        "outputId": "6f8ad80e-34e6-4284-de24-cecb9bdb3fba"
      },
      "execution_count": null,
      "outputs": [
        {
          "output_type": "execute_result",
          "data": {
            "text/plain": [
              "(90, 28, 28)"
            ]
          },
          "metadata": {},
          "execution_count": 24
        }
      ]
    },
    {
      "cell_type": "code",
      "source": [
        "my_slice = train_images[10:100, :, :]"
      ],
      "metadata": {
        "id": "uEr_ur4yA6N1"
      },
      "execution_count": null,
      "outputs": []
    },
    {
      "cell_type": "code",
      "source": [
        "my_slice.shape"
      ],
      "metadata": {
        "colab": {
          "base_uri": "https://localhost:8080/"
        },
        "id": "0OXbqtibBJmO",
        "outputId": "9c8f01bf-af5b-4bad-9aaf-b31a5911e642"
      },
      "execution_count": null,
      "outputs": [
        {
          "output_type": "execute_result",
          "data": {
            "text/plain": [
              "(90, 28, 28)"
            ]
          },
          "metadata": {},
          "execution_count": 26
        }
      ]
    },
    {
      "cell_type": "code",
      "source": [
        "my_slice = train_images[10:100, 0:28, 0:28]"
      ],
      "metadata": {
        "id": "5DZjmNKsBNid"
      },
      "execution_count": null,
      "outputs": []
    },
    {
      "cell_type": "code",
      "source": [
        "my_slice.shape"
      ],
      "metadata": {
        "colab": {
          "base_uri": "https://localhost:8080/"
        },
        "id": "L-5ZY8-cBUbm",
        "outputId": "f4016133-7a58-47c4-fcd7-ac99acc0f04c"
      },
      "execution_count": null,
      "outputs": [
        {
          "output_type": "execute_result",
          "data": {
            "text/plain": [
              "(90, 28, 28)"
            ]
          },
          "metadata": {},
          "execution_count": 28
        }
      ]
    },
    {
      "cell_type": "code",
      "source": [
        "my_slice = train_images[:, 0:14, 0:14]"
      ],
      "metadata": {
        "id": "cqPUHfzOBVLd"
      },
      "execution_count": null,
      "outputs": []
    },
    {
      "cell_type": "code",
      "source": [
        "my_slice.shape"
      ],
      "metadata": {
        "colab": {
          "base_uri": "https://localhost:8080/"
        },
        "id": "1XAV-mjlBfFe",
        "outputId": "dde37191-ed93-42ce-8228-285a3b412016"
      },
      "execution_count": null,
      "outputs": [
        {
          "output_type": "execute_result",
          "data": {
            "text/plain": [
              "(60000, 14, 14)"
            ]
          },
          "metadata": {},
          "execution_count": 30
        }
      ]
    },
    {
      "cell_type": "markdown",
      "source": [
        "Допускаются отрицательные индексы. Откладываются от конца текущей оси. Например, чтобы обрезать изображения и оставить лько центральную часть размера 14*14 пикселов, можно взять следующий срез"
      ],
      "metadata": {
        "id": "eOltpbHCBm9d"
      }
    },
    {
      "cell_type": "code",
      "source": [
        "cutted_image = train_images[:, 7:-7, 7:-7]"
      ],
      "metadata": {
        "id": "zwOZU5g2BgMW"
      },
      "execution_count": null,
      "outputs": []
    },
    {
      "cell_type": "code",
      "source": [
        "cutted_image.shape"
      ],
      "metadata": {
        "colab": {
          "base_uri": "https://localhost:8080/"
        },
        "id": "3OEX6v8EB9sm",
        "outputId": "23514c02-3abd-4a9e-edad-8b123b4cf200"
      },
      "execution_count": null,
      "outputs": [
        {
          "output_type": "execute_result",
          "data": {
            "text/plain": [
              "(60000, 14, 14)"
            ]
          },
          "metadata": {},
          "execution_count": 52
        }
      ]
    },
    {
      "cell_type": "code",
      "source": [
        "import matplotlib.pyplot as plt\n",
        "plt.imshow(cutted_image[4], cmap=plt.cm.binary)\n",
        "plt.show()"
      ],
      "metadata": {
        "colab": {
          "base_uri": "https://localhost:8080/",
          "height": 265
        },
        "id": "ggA9UjssB_jN",
        "outputId": "066ba22c-6dee-4b65-abb1-6ec7b91069d7"
      },
      "execution_count": null,
      "outputs": [
        {
          "output_type": "display_data",
          "data": {
            "text/plain": [
              "<Figure size 432x288 with 1 Axes>"
            ],
            "image/png": "[encoded data removed]"
          },
          "metadata": {
            "needs_background": "light"
          }
        }
      ]
    },
    {
      "cell_type": "markdown",
      "source": [
        "#Пакеты данных"
      ],
      "metadata": {
        "id": "0LXtRoCQDJ-F"
      }
    },
    {
      "cell_type": "code",
      "source": [
        "batch = train_images[:128]"
      ],
      "metadata": {
        "id": "dPm-ILCbCEC-"
      },
      "execution_count": null,
      "outputs": []
    },
    {
      "cell_type": "code",
      "source": [
        "next_batch = train_images[128:256]"
      ],
      "metadata": {
        "id": "V911L3nhDQ5d"
      },
      "execution_count": null,
      "outputs": []
    },
    {
      "cell_type": "code",
      "source": [
        "n=5\n",
        "n_batch = train_images[128*n : 128*(n+1)]"
      ],
      "metadata": {
        "id": "RFhfWUx0DW9-"
      },
      "execution_count": null,
      "outputs": []
    },
    {
      "cell_type": "code",
      "source": [
        "n_batch.shape"
      ],
      "metadata": {
        "colab": {
          "base_uri": "https://localhost:8080/"
        },
        "id": "ikdT5VUeDi3N",
        "outputId": "5b668706-710a-479b-881f-1d89338b7ab2"
      },
      "execution_count": null,
      "outputs": [
        {
          "output_type": "execute_result",
          "data": {
            "text/plain": [
              "(128, 28, 28)"
            ]
          },
          "metadata": {},
          "execution_count": 37
        }
      ]
    },
    {
      "cell_type": "markdown",
      "source": [
        "Приведите примеры математических операций, которые можно выполнять с тензорами/массивами . Выберите минимум 10 операций из документации"
      ],
      "metadata": {
        "id": "99EA_cVkLUp9"
      }
    },
    {
      "cell_type": "code",
      "source": [
        "#Сложение (+), add(а,с), умножение на число(*), np.dot(а,с), np.multiply(а,с), subtract(а,с) вычитание, divide(a, b) деление, tensordot(a, b) векторное умножение,\n",
        "#constant, matmul(a2, b2) матричное умножение, @ матричное уменожение, sqrt -извлечение корня, square(a) возведение в квадрат, sin(x), cos(x)"
      ],
      "metadata": {
        "id": "SRmB4XSuDlH-"
      },
      "execution_count": null,
      "outputs": []
    },
    {
      "cell_type": "code",
      "source": [
        "import numpy as np\n",
        "a=np.eye(3)\n",
        "b=np.array([[1,2,3], [4,5,6], [7,8,9]])\n",
        "print(\"Sum\",np.add(a, b)     )  # сложение\n",
        "print(\"Sum2\",a + b)  # сложение\n",
        "print(\"subtraction\",np.subtract(a, b))  # вычитание\n",
        "print(\"subtraction2\",a - b)  # вычитание\n",
        "print(\"subtraction\",np.divide(a, b))  # деление (поэлементное)\n",
        "print(\"subtraction2\",a / b)  # деление (поэлементное)\n",
        "print(np.multiply(a, b))  # умножение (поэлементное)\n",
        "print(a * b )  # умножение (поэлементное)\n",
        "print(a ** 2)\n",
        "print(np.sin(a))\n",
        "print(np.cos(a))\n",
        "print(np.exp(a))\n",
        "print(np.square(a))"
      ],
      "metadata": {
        "colab": {
          "base_uri": "https://localhost:8080/"
        },
        "id": "zAbH4j43RwYU",
        "outputId": "66a6d3b5-7ef9-47f7-a190-7f7f7e0762cb"
      },
      "execution_count": null,
      "outputs": [
        {
          "output_type": "stream",
          "name": "stdout",
          "text": [
            "Sum [[ 2.  2.  3.]\n",
            " [ 4.  6.  6.]\n",
            " [ 7.  8. 10.]]\n",
            "Sum2 [[ 2.  2.  3.]\n",
            " [ 4.  6.  6.]\n",
            " [ 7.  8. 10.]]\n",
            "subtraction [[ 0. -2. -3.]\n",
            " [-4. -4. -6.]\n",
            " [-7. -8. -8.]]\n",
            "subtraction2 [[ 0. -2. -3.]\n",
            " [-4. -4. -6.]\n",
            " [-7. -8. -8.]]\n",
            "subtraction [[1.         0.         0.        ]\n",
            " [0.         0.2        0.        ]\n",
            " [0.         0.         0.11111111]]\n",
            "subtraction2 [[1.         0.         0.        ]\n",
            " [0.         0.2        0.        ]\n",
            " [0.         0.         0.11111111]]\n",
            "[[1. 0. 0.]\n",
            " [0. 5. 0.]\n",
            " [0. 0. 9.]]\n",
            "[[1. 0. 0.]\n",
            " [0. 5. 0.]\n",
            " [0. 0. 9.]]\n",
            "[[1. 0. 0.]\n",
            " [0. 1. 0.]\n",
            " [0. 0. 1.]]\n",
            "[[0.84147098 0.         0.        ]\n",
            " [0.         0.84147098 0.        ]\n",
            " [0.         0.         0.84147098]]\n",
            "[[0.54030231 1.         1.        ]\n",
            " [1.         0.54030231 1.        ]\n",
            " [1.         1.         0.54030231]]\n",
            "[[2.71828183 1.         1.        ]\n",
            " [1.         2.71828183 1.        ]\n",
            " [1.         1.         2.71828183]]\n",
            "[[1. 0. 0.]\n",
            " [0. 1. 0.]\n",
            " [0. 0. 1.]]\n"
          ]
        }
      ]
    },
    {
      "cell_type": "markdown",
      "source": [],
      "metadata": {
        "id": "e4XvLwBqhAho"
      }
    },
    {
      "cell_type": "code",
      "source": [
        "import numpy as np\n",
        "b=np.array([[1,2,3], [4,5,6], [7,8,9]])\n",
        "a=np.array([[10,12,23], [14,5,60], [7,78,9]])\n",
        "\n",
        "print(np.dot(a,b)) #скалярное произведение\n",
        "\n",
        "print(a.T) #транспонирование\n",
        "\n",
        "print(a.shape)\n",
        "a=np.expand_dims(a, axis=0) #добавление новой оси\n",
        "print(a.shape)\n",
        "\n",
        "print(b.shape)\n",
        "b = np.reshape(9,1) #изменение формы\n",
        "print(b.shape)"
      ],
      "metadata": {
        "colab": {
          "base_uri": "https://localhost:8080/"
        },
        "id": "QgOuRRZnhB6Y",
        "outputId": "2eb9f490-f134-4b7a-9989-814c06351792"
      },
      "execution_count": null,
      "outputs": [
        {
          "output_type": "stream",
          "name": "stdout",
          "text": [
            "[[219 264 309]\n",
            " [454 533 612]\n",
            " [382 476 570]]\n",
            "[[10 14  7]\n",
            " [12  5 78]\n",
            " [23 60  9]]\n",
            "(3, 3)\n",
            "(1, 3, 3)\n",
            "(3, 3)\n",
            "(1,)\n"
          ]
        }
      ]
    },
    {
      "cell_type": "markdown",
      "source": [
        "https://www.tensorflow.org/guide/tensor"
      ],
      "metadata": {
        "id": "7-8Myl7ziDPR"
      }
    },
    {
      "cell_type": "markdown",
      "source": [
        "Тензоры — это многомерные массивы с единым типом\n",
        "\n",
        "Все тензоры **неизменяемы**, как числа и строки Python\n",
        "\n",
        "Базовый класс tf.Tensor требует, чтобы тензоры были «прямоугольными», то есть вдоль каждой оси все элементы имели одинаковый размер. Есть специализированные типы тензоров, которые могут обрабатывать различные формы:\n",
        "*Рваные тензоры* и *разреженные тензоры* \n",
        "\n",
        "Можно делать **базовые математические операции** с тензорами, включая сложение, поэлементное умножение и матричное умножение.\n",
        "\n",
        "**Тензоры** имеют 1)форму - длина (количество элементов) каждой из осей тензора.\n",
        "\n",
        "2)Ранг - Количество осей тензора. Скаляр имеет ранг 0, вектор имеет ранг 1, матрица имеет ранг 2.\n",
        "\n",
        "3)Ось или размерность - конкретная размерность тензора.\n",
        "\n",
        "4) Размер - общее количество элементов в тензоре, вектор формы произведения.\n",
        "\n",
        "\n",
        "\n",
        "**Одноосное индексирование**\n",
        "\n",
        "TensorFlow следует стандартным правилам индексации Python, аналогичным индексации списка или строки в Python(правила индексации NumPy).\n",
        "\n",
        "\n",
        "\n",
        "*   индексы начинаются с 0\n",
        "*   отрицательные индексы отсчитываются в обратном порядке с конца\n",
        "*   двоеточия, : , используются для срезов: start:stop:step\n",
        "\n",
        "Индексация со скаляром удаляет ось,а с помощью фрагмента - сохраняет\n",
        "\n",
        "\n",
        "\n",
        "**Многоосевое индексирование**\n",
        "\n",
        "Тензоры более высокого ранга индексируются путем передачи нескольких индексов.\n",
        "\n",
        "Те же самые правила, что и в случае с одной осью, применяются к каждой оси *независимо*.\n",
        "\n",
        "\n",
        "**Изменение формы тензора**\n",
        "Обычно единственным разумным использованием tf.reshape является объединение или разделение соседних осей\n",
        "\n",
        "\n",
        "Чтобы проверить тип данных tf.Tensor , используйте свойство *Tensor.dtype* .\n",
        "\n",
        "\n",
        "**Вещание** — это концепция, заимствованная из эквивалентной функции в NumPy . Короче говоря, при определенных условиях меньшие тензоры автоматически *«растягиваются»* для соответствия большим тензорам при выполнении над ними комбинированных операций.\n",
        "\n",
        "Самый простой и распространенный случай — это когда вы пытаетесь умножить или добавить тензор к скаляру. В этом случае скаляр передается таким же образом, как и другой аргумент.\n",
        "\n",
        "*tf.broadcast_to *\n",
        "\n",
        "Большинство, но не все операции вызывают convert_to_tensor для нетензорных аргументов. Существует *реестр преобразований*, и большинство классов объектов, таких как ndarray NumPy, ndarray , TensorShape Python и tf.Variable , будут конвертироваться **автоматически**.\n",
        "\n",
        "Тензор с переменным числом элементов вдоль некоторой оси называется **«рваным»**. Используйте tf.ragged.RaggedTensor для рваных данных.\n",
        "\n",
        "\n",
        "\n"
      ],
      "metadata": {
        "id": "LTH-at0hIF_I"
      }
    },
    {
      "cell_type": "markdown",
      "source": [
        "![image.png](data:image/png;base64,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)"
      ],
      "metadata": {
        "id": "sUR0mMZpLEHG"
      }
    },
    {
      "cell_type": "markdown",
      "source": [
        "создайте tf.RaggedTensor , используя tf.ragged.constant :\n",
        "\n",
        "`ragged_tensor = tf.ragged.constant(ragged_list)`"
      ],
      "metadata": {
        "id": "5kpc4soMLFaT"
      }
    },
    {
      "cell_type": "markdown",
      "source": [
        "**Тензоры струн**\n",
        "tf.string — это dtype , то есть вы можете представлять данные в виде строк (байтовых массивов переменной длины) в тензорах.\n",
        "\n",
        "Строки являются атомарными. Длина струны не является одной из осей тензора.\n",
        "\n",
        "Скалярный тензор струны:\n",
        "\n",
        "`# Tensors can be strings, too here is a scalar string.\n",
        "scalar_string_tensor = tf.constant(\"Gray wolf\")\n",
        "print(scalar_string_tensor)`"
      ],
      "metadata": {
        "id": "AhWuY-VVLUKP"
      }
    },
    {
      "cell_type": "markdown",
      "source": [
        "**Разреженные тензоры**\n",
        "\n",
        "Иногда ваши данные разрежены, например, очень широкое пространство для встраивания. TensorFlow поддерживает tf.sparse.SparseTensor и связанные операции для эффективного хранения разреженных данных.\n",
        "\n",
        "`tf.SparseTensor , форма: [3, 4]`"
      ],
      "metadata": {
        "id": "qwYJDi71Lpri"
      }
    },
    {
      "cell_type": "markdown",
      "source": [
        "![image.png](data:image/png;base64,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)"
      ],
      "metadata": {
        "id": "qYMGoPaWLuNq"
      }
    }
  ]
}