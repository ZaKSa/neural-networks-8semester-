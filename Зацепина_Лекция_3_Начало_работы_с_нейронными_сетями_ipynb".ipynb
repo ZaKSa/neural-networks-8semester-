{
  "nbformat": 4,
  "nbformat_minor": 0,
  "metadata": {
    "colab": {
      "provenance": []
    },
    "kernelspec": {
      "name": "python3",
      "display_name": "Python 3"
    },
    "language_info": {
      "name": "python"
    }
  },
  "cells": [
    {
      "cell_type": "markdown",
      "source": [
        "Объект GradientTape в TensorFlow"
      ],
      "metadata": {
        "id": "TWl36nD_Ccob"
      }
    },
    {
      "cell_type": "code",
      "execution_count": null,
      "metadata": {
        "id": "iXYJiDmYxMjV"
      },
      "outputs": [],
      "source": [
        "import tensorflow as tf\n",
        "x = tf.Variable(0.)\n",
        "with tf.GradientTape() as tape:\n",
        "    y = 2 * x + 3\n",
        "grad_of_y_wrt_x = tape.gradient(y, x)"
      ]
    },
    {
      "cell_type": "code",
      "source": [
        "grad_of_y_wrt_x"
      ],
      "metadata": {
        "id": "pUILubyPCjtB",
        "colab": {
          "base_uri": "https://localhost:8080/"
        },
        "outputId": "98a9cea8-5697-49eb-c793-da633a9ea7fd"
      },
      "execution_count": null,
      "outputs": [
        {
          "output_type": "execute_result",
          "data": {
            "text/plain": [
              "<tf.Tensor: shape=(), dtype=float32, numpy=2.0>"
            ]
          },
          "metadata": {},
          "execution_count": 3
        }
      ]
    },
    {
      "cell_type": "code",
      "source": [
        "x = tf.Variable(tf.random.uniform((2, 2)))\n",
        "with tf.GradientTape() as tape:\n",
        "    y = 2 * x + 3\n",
        "grad_of_y_wrt_x = tape.gradient(y, x)"
      ],
      "metadata": {
        "id": "XlFuKdUMDqMu"
      },
      "execution_count": null,
      "outputs": []
    },
    {
      "cell_type": "code",
      "source": [
        "grad_of_y_wrt_x.numpy()"
      ],
      "metadata": {
        "id": "5ibNJGcWDsPv",
        "colab": {
          "base_uri": "https://localhost:8080/"
        },
        "outputId": "293f860f-375a-409f-a1d6-05c56bf7f88f"
      },
      "execution_count": null,
      "outputs": [
        {
          "output_type": "execute_result",
          "data": {
            "text/plain": [
              "array([[2., 2.],\n",
              "       [2., 2.]], dtype=float32)"
            ]
          },
          "metadata": {},
          "execution_count": 5
        }
      ]
    },
    {
      "cell_type": "code",
      "source": [
        "W = tf.Variable(tf.random.uniform((2, 2)))\n",
        "b = tf.Variable(tf.zeros((2,)))\n",
        "x = tf.random.uniform((2, 2))\n",
        "with tf.GradientTape() as tape:\n",
        "    y = tf.matmul(x, W) + b\n",
        "grad_of_y_wrt_W_and_b = tape.gradient(y, [W, b])"
      ],
      "metadata": {
        "id": "CxszuWt2DvbO"
      },
      "execution_count": null,
      "outputs": []
    },
    {
      "cell_type": "code",
      "source": [
        "grad_of_y_wrt_W_and_b[0]"
      ],
      "metadata": {
        "id": "qSEzPBE7EG7O",
        "colab": {
          "base_uri": "https://localhost:8080/"
        },
        "outputId": "38270d75-bed7-43fb-94c2-df6394ec3577"
      },
      "execution_count": null,
      "outputs": [
        {
          "output_type": "execute_result",
          "data": {
            "text/plain": [
              "<tf.Tensor: shape=(2, 2), dtype=float32, numpy=\n",
              "array([[0.4664291, 0.4664291],\n",
              "       [0.5907396, 0.5907396]], dtype=float32)>"
            ]
          },
          "metadata": {},
          "execution_count": 7
        }
      ]
    },
    {
      "cell_type": "code",
      "source": [
        "grad_of_y_wrt_W_and_b[1]"
      ],
      "metadata": {
        "id": "yB8g3i-9EKM3",
        "colab": {
          "base_uri": "https://localhost:8080/"
        },
        "outputId": "373c15c1-ec70-4d1f-c20d-4250ba3136a7"
      },
      "execution_count": null,
      "outputs": [
        {
          "output_type": "execute_result",
          "data": {
            "text/plain": [
              "<tf.Tensor: shape=(2,), dtype=float32, numpy=array([2., 2.], dtype=float32)>"
            ]
          },
          "metadata": {},
          "execution_count": 8
        }
      ]
    },
    {
      "cell_type": "code",
      "source": [
        "grad_of_y_wrt_W_and_b"
      ],
      "metadata": {
        "id": "eU7VAgwiER-_",
        "colab": {
          "base_uri": "https://localhost:8080/"
        },
        "outputId": "de186e51-a0df-4aa2-c452-4d0e9eca1a94"
      },
      "execution_count": null,
      "outputs": [
        {
          "output_type": "execute_result",
          "data": {
            "text/plain": [
              "[<tf.Tensor: shape=(2, 2), dtype=float32, numpy=\n",
              " array([[0.4664291, 0.4664291],\n",
              "        [0.5907396, 0.5907396]], dtype=float32)>,\n",
              " <tf.Tensor: shape=(2,), dtype=float32, numpy=array([2., 2.], dtype=float32)>]"
            ]
          },
          "metadata": {},
          "execution_count": 9
        }
      ]
    },
    {
      "cell_type": "markdown",
      "source": [
        "#Классификация набора данных MNIST на Keras"
      ],
      "metadata": {
        "id": "ooaISyxlH2Er"
      }
    },
    {
      "cell_type": "code",
      "source": [
        "from tensorflow.keras.datasets import mnist\n",
        "from tensorflow import keras\n",
        "from tensorflow.keras import layers"
      ],
      "metadata": {
        "id": "VRcGJFY3H_XR"
      },
      "execution_count": null,
      "outputs": []
    },
    {
      "cell_type": "code",
      "source": [
        "(train_images, train_labels), (test_images, test_labels) = mnist.load_data()\n",
        "train_images = train_images.reshape((60000, 28 * 28))\n",
        "train_images = train_images.astype(\"float32\") / 255\n",
        "test_images = test_images.reshape((10000, 28 * 28))\n",
        "test_images = test_images.astype(\"float32\") / 255"
      ],
      "metadata": {
        "id": "0qNIVvYGES7O",
        "colab": {
          "base_uri": "https://localhost:8080/"
        },
        "outputId": "ec63f7eb-7185-4d5f-97a0-652de51d0dc3"
      },
      "execution_count": null,
      "outputs": [
        {
          "output_type": "stream",
          "name": "stdout",
          "text": [
            "Downloading data from https://storage.googleapis.com/tensorflow/tf-keras-datasets/mnist.npz\n",
            "11490434/11490434 [==============================] - 0s 0us/step\n"
          ]
        }
      ]
    },
    {
      "cell_type": "code",
      "source": [
        "test_images.shape"
      ],
      "metadata": {
        "id": "q2e6d5ucPsFR",
        "colab": {
          "base_uri": "https://localhost:8080/"
        },
        "outputId": "b13effa2-be7c-410d-cbdb-294491fd35e4"
      },
      "execution_count": null,
      "outputs": [
        {
          "output_type": "execute_result",
          "data": {
            "text/plain": [
              "(10000, 784)"
            ]
          },
          "metadata": {},
          "execution_count": 9
        }
      ]
    },
    {
      "cell_type": "code",
      "source": [
        "model = keras.Sequential([\n",
        "    layers.Dense(512, activation=\"relu\"),\n",
        "    layers.Dense(10, activation=\"softmax\")\n",
        "])"
      ],
      "metadata": {
        "id": "nmIqtAR_IBKF"
      },
      "execution_count": null,
      "outputs": []
    },
    {
      "cell_type": "code",
      "source": [
        "#https://www.tensorflow.org/api_docs/python/tf/keras/optimizers\n",
        "model.compile(optimizer= \"rmsprop\",#sgd\n",
        "              loss=\"sparse_categorical_crossentropy\",\n",
        "              metrics=[\"accuracy\"])"
      ],
      "metadata": {
        "id": "QC09awx0NNRr"
      },
      "execution_count": null,
      "outputs": []
    },
    {
      "cell_type": "code",
      "source": [
        "model.fit(train_images, train_labels, epochs=5, batch_size=128)"
      ],
      "metadata": {
        "id": "qTOKW0_ZOAkh",
        "colab": {
          "base_uri": "https://localhost:8080/"
        },
        "outputId": "01cfa28c-ee09-407b-f051-12b4d6b8e5a2"
      },
      "execution_count": null,
      "outputs": [
        {
          "output_type": "stream",
          "name": "stdout",
          "text": [
            "Epoch 1/5\n",
            "469/469 [==============================] - 6s 12ms/step - loss: 0.2644 - accuracy: 0.9233\n",
            "Epoch 2/5\n",
            "469/469 [==============================] - 7s 14ms/step - loss: 0.1057 - accuracy: 0.9688\n",
            "Epoch 3/5\n",
            "469/469 [==============================] - 5s 11ms/step - loss: 0.0693 - accuracy: 0.9794\n",
            "Epoch 4/5\n",
            "469/469 [==============================] - 6s 12ms/step - loss: 0.0505 - accuracy: 0.9848\n",
            "Epoch 5/5\n",
            "469/469 [==============================] - 6s 13ms/step - loss: 0.0377 - accuracy: 0.9890\n"
          ]
        },
        {
          "output_type": "execute_result",
          "data": {
            "text/plain": [
              "<keras.callbacks.History at 0x7f7e17293550>"
            ]
          },
          "metadata": {},
          "execution_count": 12
        }
      ]
    },
    {
      "cell_type": "markdown",
      "source": [
        "ДОП ЗАДАНИЕ - accuracy тестовой выборки"
      ],
      "metadata": {
        "id": "R6rF3zy2_GqJ"
      }
    },
    {
      "cell_type": "code",
      "source": [
        "results = model.evaluate(train_images, train_labels, batch_size=128)\n",
        "print(\"test loss, test acc:\", results)"
      ],
      "metadata": {
        "colab": {
          "base_uri": "https://localhost:8080/"
        },
        "id": "UbO0FXR1-fWL",
        "outputId": "bbf575fb-f590-473c-eadd-391228a84fd6"
      },
      "execution_count": null,
      "outputs": [
        {
          "output_type": "stream",
          "name": "stdout",
          "text": [
            "469/469 [==============================] - 3s 6ms/step - loss: 0.0242 - accuracy: 0.9940\n",
            "test loss, test acc: [0.024228600785136223, 0.9939500093460083]\n"
          ]
        }
      ]
    },
    {
      "cell_type": "markdown",
      "source": [
        "#Tensorflow "
      ],
      "metadata": {
        "id": "bIjh_giHJyQX"
      }
    },
    {
      "cell_type": "markdown",
      "source": [
        "Простой класс Dense"
      ],
      "metadata": {
        "id": "Ws5zgjTlLZQW"
      }
    },
    {
      "cell_type": "code",
      "source": [
        "import tensorflow as tf\n",
        "\n",
        "class NaiveDense:\n",
        "    def __init__(self, input_size, output_size, activation):\n",
        "        self.activation = activation\n",
        "\n",
        "        w_shape = (input_size, output_size)\n",
        "        w_initial_value = tf.random.uniform(w_shape, minval=0, maxval=1e-1)\n",
        "        self.W = tf.Variable(w_initial_value)\n",
        "\n",
        "        b_shape = (output_size,)\n",
        "        b_initial_value = tf.zeros(b_shape)\n",
        "        self.b = tf.Variable(b_initial_value)\n",
        "\n",
        "    def __call__(self, inputs):\n",
        "        return self.activation(tf.matmul(inputs, self.W) + self.b)\n",
        "\n",
        "    @property\n",
        "    def weights(self):\n",
        "        return [self.W, self.b]"
      ],
      "metadata": {
        "id": "55hbdm4HODbC"
      },
      "execution_count": null,
      "outputs": []
    },
    {
      "cell_type": "code",
      "source": [
        "class NaiveSequential:\n",
        "    def __init__(self, layers):\n",
        "        self.layers = layers\n",
        "\n",
        "    def __call__(self, inputs):\n",
        "        x = inputs\n",
        "        for layer in self.layers:\n",
        "           x = layer(x)\n",
        "        return x\n",
        "\n",
        "    @property\n",
        "    def weights(self):\n",
        "       weights = []\n",
        "       for layer in self.layers:\n",
        "           weights += layer.weights\n",
        "       return weights"
      ],
      "metadata": {
        "id": "50BlA_RGLbPG"
      },
      "execution_count": null,
      "outputs": []
    },
    {
      "cell_type": "code",
      "source": [
        "model = NaiveSequential([\n",
        "    NaiveDense(input_size=28 * 28, output_size=512, activation=tf.nn.relu),\n",
        "    NaiveDense(input_size=512, output_size=10, activation=tf.nn.softmax)\n",
        "])\n",
        "assert len(model.weights) == 4"
      ],
      "metadata": {
        "id": "YRIBc1NkMK2u"
      },
      "execution_count": null,
      "outputs": []
    },
    {
      "cell_type": "code",
      "source": [
        "import math\n",
        "\n",
        "class BatchGenerator:\n",
        "    def __init__(self, images, labels, batch_size=128):\n",
        "        assert len(images) == len(labels)\n",
        "        self.index = 0\n",
        "        self.images = images\n",
        "        self.labels = labels\n",
        "        self.batch_size = batch_size\n",
        "        self.num_batches = math.ceil(len(images) / batch_size)\n",
        "\n",
        "    def next(self):\n",
        "        images = self.images[self.index : self.index + self.batch_size]\n",
        "        labels = self.labels[self.index : self.index + self.batch_size]\n",
        "        self.index += self.batch_size\n",
        "        return images, labels"
      ],
      "metadata": {
        "id": "MJd0C7CFMMfs"
      },
      "execution_count": null,
      "outputs": []
    },
    {
      "cell_type": "markdown",
      "source": [
        "1 шаг обучения"
      ],
      "metadata": {
        "id": "gjUwFq83NZx9"
      }
    },
    {
      "cell_type": "code",
      "source": [
        "def one_training_step(model, images_batch, labels_batch):\n",
        "    with tf.GradientTape() as tape:\n",
        "        predictions = model(images_batch)\n",
        "        per_sample_losses = tf.keras.losses.sparse_categorical_crossentropy(\n",
        "            labels_batch, predictions)\n",
        "        average_loss = tf.reduce_mean(per_sample_losses)\n",
        "    gradients = tape.gradient(average_loss, model.weights)\n",
        "    update_weights(gradients, model.weights)\n",
        "    return average_loss"
      ],
      "metadata": {
        "id": "KQYQ-6FwMjfO"
      },
      "execution_count": null,
      "outputs": []
    },
    {
      "cell_type": "code",
      "source": [
        "learning_rate = 1e-3\n",
        "\n",
        "def update_weights(gradients, weights):\n",
        "    for g, w in zip(gradients, weights):\n",
        "        w.assign_sub(g * learning_rate)"
      ],
      "metadata": {
        "id": "EiU6ZO_LNdNe"
      },
      "execution_count": null,
      "outputs": []
    },
    {
      "cell_type": "markdown",
      "source": [
        "или можно использовать экземпляр оптимзатора, реализованного в Keras"
      ],
      "metadata": {
        "id": "9eqNytPPOMnf"
      }
    },
    {
      "cell_type": "code",
      "source": [
        "from tensorflow.keras import optimizers\n",
        "\n",
        "optimizer = optimizers.SGD(learning_rate=1e-3)\n",
        "\n",
        "def update_weights(gradients, weights):\n",
        "    optimizer.apply_gradients(zip(gradients, weights))"
      ],
      "metadata": {
        "id": "00guWRVQNg3G"
      },
      "execution_count": null,
      "outputs": []
    },
    {
      "cell_type": "markdown",
      "source": [
        "Полный цикл обучения "
      ],
      "metadata": {
        "id": "hnEYo1DWOqWt"
      }
    },
    {
      "cell_type": "code",
      "source": [
        "def fit(model, images, labels, epochs, batch_size=128):\n",
        "    for epoch_counter in range(epochs):\n",
        "        print(f\"Epoch {epoch_counter}\")\n",
        "        batch_generator = BatchGenerator(images, labels)\n",
        "        for batch_counter in range(batch_generator.num_batches):\n",
        "            images_batch, labels_batch = batch_generator.next()\n",
        "            loss = one_training_step(model, images_batch, labels_batch)\n",
        "            if batch_counter % 100 == 0:\n",
        "                print(f\"loss at batch {batch_counter}: {loss:.2f}\")"
      ],
      "metadata": {
        "id": "j-h_Pt0qOsyG"
      },
      "execution_count": null,
      "outputs": []
    },
    {
      "cell_type": "code",
      "source": [
        "from tensorflow.keras.datasets import mnist\n",
        "(train_images, train_labels), (test_images, test_labels) = mnist.load_data()\n",
        "\n",
        "train_images = train_images.reshape((60000, 28 * 28))\n",
        "train_images = train_images.astype(\"float32\") / 255\n",
        "test_images = test_images.reshape((10000, 28 * 28))\n",
        "test_images = test_images.astype(\"float32\") / 255\n",
        "\n",
        "fit(model, train_images, train_labels, epochs=10, batch_size=128)"
      ],
      "metadata": {
        "id": "9ETyWJOnOtOd",
        "colab": {
          "base_uri": "https://localhost:8080/"
        },
        "outputId": "a191a279-fc0f-4a91-be06-bebd1e0159ca"
      },
      "execution_count": null,
      "outputs": [
        {
          "output_type": "stream",
          "name": "stdout",
          "text": [
            "Epoch 0\n",
            "loss at batch 0: 0.64\n",
            "loss at batch 100: 0.68\n",
            "loss at batch 200: 0.57\n",
            "loss at batch 300: 0.63\n",
            "loss at batch 400: 0.71\n",
            "Epoch 1\n",
            "loss at batch 0: 0.61\n",
            "loss at batch 100: 0.64\n",
            "loss at batch 200: 0.54\n",
            "loss at batch 300: 0.60\n",
            "loss at batch 400: 0.68\n",
            "Epoch 2\n",
            "loss at batch 0: 0.58\n",
            "loss at batch 100: 0.61\n",
            "loss at batch 200: 0.51\n",
            "loss at batch 300: 0.57\n",
            "loss at batch 400: 0.66\n",
            "Epoch 3\n",
            "loss at batch 0: 0.56\n",
            "loss at batch 100: 0.58\n",
            "loss at batch 200: 0.48\n",
            "loss at batch 300: 0.55\n",
            "loss at batch 400: 0.64\n",
            "Epoch 4\n",
            "loss at batch 0: 0.54\n",
            "loss at batch 100: 0.55\n",
            "loss at batch 200: 0.46\n",
            "loss at batch 300: 0.53\n",
            "loss at batch 400: 0.62\n",
            "Epoch 5\n",
            "loss at batch 0: 0.52\n",
            "loss at batch 100: 0.53\n",
            "loss at batch 200: 0.44\n",
            "loss at batch 300: 0.51\n",
            "loss at batch 400: 0.61\n",
            "Epoch 6\n",
            "loss at batch 0: 0.50\n",
            "loss at batch 100: 0.51\n",
            "loss at batch 200: 0.43\n",
            "loss at batch 300: 0.50\n",
            "loss at batch 400: 0.60\n",
            "Epoch 7\n",
            "loss at batch 0: 0.49\n",
            "loss at batch 100: 0.49\n",
            "loss at batch 200: 0.41\n",
            "loss at batch 300: 0.48\n",
            "loss at batch 400: 0.58\n",
            "Epoch 8\n",
            "loss at batch 0: 0.47\n",
            "loss at batch 100: 0.48\n",
            "loss at batch 200: 0.40\n",
            "loss at batch 300: 0.47\n",
            "loss at batch 400: 0.58\n",
            "Epoch 9\n",
            "loss at batch 0: 0.46\n",
            "loss at batch 100: 0.46\n",
            "loss at batch 200: 0.39\n",
            "loss at batch 300: 0.46\n",
            "loss at batch 400: 0.57\n"
          ]
        }
      ]
    },
    {
      "cell_type": "markdown",
      "source": [
        "Оценка модели"
      ],
      "metadata": {
        "id": "lf-G6OCFPcYx"
      }
    },
    {
      "cell_type": "code",
      "source": [
        "import numpy as np\n",
        "predictions = model(test_images)\n",
        "predictions = predictions.numpy()\n",
        "predicted_labels = np.argmax(predictions, axis=1)\n",
        "matches = predicted_labels == test_labels\n",
        "print(f\"accuracy: {matches.mean():.2f}\")"
      ],
      "metadata": {
        "id": "nSVcsLWROu-1",
        "colab": {
          "base_uri": "https://localhost:8080/"
        },
        "outputId": "974faa72-e382-4e67-e40b-11ea66059a00"
      },
      "execution_count": null,
      "outputs": [
        {
          "output_type": "stream",
          "name": "stdout",
          "text": [
            "accuracy: 0.82\n"
          ]
        }
      ]
    },
    {
      "cell_type": "code",
      "source": [],
      "metadata": {
        "id": "1atk5IEMPd8G"
      },
      "execution_count": null,
      "outputs": []
    },
    {
      "cell_type": "markdown",
      "source": [
        "***ДОМАШНЯЯ РАБОТА***"
      ],
      "metadata": {
        "id": "F4ssbvI7Kw6q"
      }
    },
    {
      "cell_type": "markdown",
      "source": [
        "![image_2023-03-22_18-26-55.png](data:image/png;base64,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)"
      ],
      "metadata": {
        "id": "Nmt04OXplKj-"
      }
    },
    {
      "cell_type": "markdown",
      "source": [
        "сделано\n",
        "\n",
        "сделано\n",
        "\n",
        "сделано\n",
        "\n",
        "сделано\n",
        "\n",
        "сделано\n",
        "\n"
      ],
      "metadata": {
        "id": "k8HAughklOl_"
      }
    },
    {
      "cell_type": "markdown",
      "source": [
        "Поэкспериментируем с количеством эпох.\n",
        "\n",
        "Для 5 эпох еще на самой лекции получили такие данные:\n",
        "\n",
        "Epoch 1/5\n",
        "469/469 [==============================] - 6s 12ms/step - loss: 0.2644 - accuracy: 0.9233\n",
        "Epoch 2/5\n",
        "469/469 [==============================] - 7s 14ms/step - loss: 0.1057 - accuracy: 0.9688\n",
        "Epoch 3/5\n",
        "469/469 [==============================] - 5s 11ms/step - loss: 0.0693 - accuracy: 0.9794\n",
        "Epoch 4/5\n",
        "469/469 [==============================] - 6s 12ms/step - loss: 0.0505 - accuracy: 0.9848\n",
        "Epoch 5/5\n",
        "469/469 [==============================] - 6s 13ms/step - loss: 0.0377 - accuracy: 0.9890"
      ],
      "metadata": {
        "id": "ztCcmFLJsPIr"
      }
    },
    {
      "cell_type": "markdown",
      "source": [
        "Для 3 эпох:\n",
        "\n",
        "Epoch 1/3\n",
        "469/469 [==============================] - 6s 13ms/step - loss: 0.2637 - accuracy: 0.9240\n",
        "Epoch 2/3\n",
        "469/469 [==============================] - 5s 12ms/step - loss: 0.1069 - accuracy: 0.9684\n",
        "Epoch 3/3\n",
        "469/469 [==============================] - 7s 16ms/step - loss: 0.0697 - accuracy: 0.9796"
      ],
      "metadata": {
        "id": "l6jLIh2gsceK"
      }
    },
    {
      "cell_type": "markdown",
      "source": [
        "Для 8 эпох:\n",
        "\n",
        "Epoch 1/8\n",
        "469/469 [==============================] - 5s 11ms/step - loss: 0.2642 - accuracy: 0.9249\n",
        "Epoch 2/8\n",
        "469/469 [==============================] - 6s 12ms/step - loss: 0.1077 - accuracy: 0.9688\n",
        "Epoch 3/8\n",
        "469/469 [==============================] - 5s 10ms/step - loss: 0.0704 - accuracy: 0.9793\n",
        "Epoch 4/8\n",
        "469/469 [==============================] - 7s 15ms/step - loss: 0.0519 - accuracy: 0.9844\n",
        "Epoch 5/8\n",
        "469/469 [==============================] - 7s 15ms/step - loss: 0.0383 - accuracy: 0.9886\n",
        "Epoch 6/8\n",
        "469/469 [==============================] - 6s 13ms/step - loss: 0.0299 - accuracy: 0.9913\n",
        "Epoch 7/8\n",
        "469/469 [==============================] - 6s 12ms/step - loss: 0.0220 - accuracy: 0.9938\n",
        "Epoch 8/8\n",
        "469/469 [==============================] - 8s 16ms/step - loss: 0.0166 - accuracy: 0.9956"
      ],
      "metadata": {
        "id": "epx1KE0tsf3j"
      }
    },
    {
      "cell_type": "code",
      "source": [
        "#keras, epochs=3\n",
        "\n",
        "from tensorflow.keras.datasets import mnist\n",
        "from tensorflow import keras\n",
        "from tensorflow.keras import layers\n",
        "\n",
        "(train_images, train_labels), (test_images, test_labels) = mnist.load_data()\n",
        "train_images = train_images.reshape((60000, 28 * 28))\n",
        "train_images = train_images.astype(\"float32\") / 255\n",
        "test_images = test_images.reshape((10000, 28 * 28))\n",
        "test_images = test_images.astype(\"float32\") / 255\n",
        "model = keras.Sequential([\n",
        "    layers.Dense(512, activation=\"relu\"),\n",
        "    layers.Dense(10, activation=\"softmax\")\n",
        "])\n",
        "#https://www.tensorflow.org/api_docs/python/tf/keras/optimizers\n",
        "model.compile(optimizer= \"rmsprop\",#sgd\n",
        "              loss=\"sparse_categorical_crossentropy\",\n",
        "              metrics=[\"accuracy\"])\n",
        "model.fit(train_images, train_labels, epochs=3, batch_size=128)"
      ],
      "metadata": {
        "colab": {
          "base_uri": "https://localhost:8080/"
        },
        "id": "uFdXuUkil822",
        "outputId": "1dd07692-1493-446a-d6a9-6f76d909f6d2"
      },
      "execution_count": null,
      "outputs": [
        {
          "output_type": "stream",
          "name": "stdout",
          "text": [
            "Epoch 1/3\n",
            "469/469 [==============================] - 6s 13ms/step - loss: 0.2637 - accuracy: 0.9240\n",
            "Epoch 2/3\n",
            "469/469 [==============================] - 5s 12ms/step - loss: 0.1069 - accuracy: 0.9684\n",
            "Epoch 3/3\n",
            "469/469 [==============================] - 7s 16ms/step - loss: 0.0697 - accuracy: 0.9796\n"
          ]
        },
        {
          "output_type": "execute_result",
          "data": {
            "text/plain": [
              "<keras.callbacks.History at 0x7fd6e69ec760>"
            ]
          },
          "metadata": {},
          "execution_count": 2
        }
      ]
    },
    {
      "cell_type": "code",
      "source": [
        "#keras, epochs=8\n",
        "\n",
        "from tensorflow.keras.datasets import mnist\n",
        "from tensorflow import keras\n",
        "from tensorflow.keras import layers\n",
        "\n",
        "(train_images, train_labels), (test_images, test_labels) = mnist.load_data()\n",
        "train_images = train_images.reshape((60000, 28 * 28))\n",
        "train_images = train_images.astype(\"float32\") / 255\n",
        "test_images = test_images.reshape((10000, 28 * 28))\n",
        "test_images = test_images.astype(\"float32\") / 255\n",
        "model = keras.Sequential([\n",
        "    layers.Dense(512, activation=\"relu\"),\n",
        "    layers.Dense(10, activation=\"softmax\")\n",
        "])\n",
        "#https://www.tensorflow.org/api_docs/python/tf/keras/optimizers\n",
        "model.compile(optimizer= \"rmsprop\",#sgd\n",
        "              loss=\"sparse_categorical_crossentropy\",\n",
        "              metrics=[\"accuracy\"])\n",
        "model.fit(train_images, train_labels, epochs=8, batch_size=128)"
      ],
      "metadata": {
        "colab": {
          "base_uri": "https://localhost:8080/"
        },
        "id": "vmcu0af8sHyz",
        "outputId": "3db21293-8142-48f8-9477-522f02b4953b"
      },
      "execution_count": null,
      "outputs": [
        {
          "output_type": "stream",
          "name": "stdout",
          "text": [
            "Epoch 1/8\n",
            "469/469 [==============================] - 5s 11ms/step - loss: 0.2642 - accuracy: 0.9249\n",
            "Epoch 2/8\n",
            "469/469 [==============================] - 6s 12ms/step - loss: 0.1077 - accuracy: 0.9688\n",
            "Epoch 3/8\n",
            "469/469 [==============================] - 5s 10ms/step - loss: 0.0704 - accuracy: 0.9793\n",
            "Epoch 4/8\n",
            "469/469 [==============================] - 7s 15ms/step - loss: 0.0519 - accuracy: 0.9844\n",
            "Epoch 5/8\n",
            "469/469 [==============================] - 7s 15ms/step - loss: 0.0383 - accuracy: 0.9886\n",
            "Epoch 6/8\n",
            "469/469 [==============================] - 6s 13ms/step - loss: 0.0299 - accuracy: 0.9913\n",
            "Epoch 7/8\n",
            "469/469 [==============================] - 6s 12ms/step - loss: 0.0220 - accuracy: 0.9938\n",
            "Epoch 8/8\n",
            "469/469 [==============================] - 8s 16ms/step - loss: 0.0166 - accuracy: 0.9956\n"
          ]
        },
        {
          "output_type": "execute_result",
          "data": {
            "text/plain": [
              "<keras.callbacks.History at 0x7fd710c1cd90>"
            ]
          },
          "metadata": {},
          "execution_count": 3
        }
      ]
    },
    {
      "cell_type": "markdown",
      "source": [
        "Tensorflow"
      ],
      "metadata": {
        "id": "UYVBHe7HRIQX"
      }
    },
    {
      "cell_type": "code",
      "source": [
        "(train_images, train_labels), (test_images, test_labels) = mnist.load_data()\n",
        "\n",
        "train_images = train_images.reshape((60000, 28 * 28))\n",
        "train_images = train_images.astype(\"float32\") / 255\n",
        "test_images = test_images.reshape((10000, 28 * 28))\n",
        "test_images = test_images.astype(\"float32\") / 255\n",
        "\n",
        "for epoch in range(1,11,2):\n",
        "  print(\"epoch \", epoch)\n",
        "  fit(model, train_images, train_labels, epochs=epoch, batch_size=128)\n",
        "\n",
        "  import numpy as np\n",
        "  predictions = model(test_images)\n",
        "  predictions = predictions.numpy()\n",
        "  predicted_labels = np.argmax(predictions, axis=1)\n",
        "  matches = predicted_labels == test_labels\n",
        "  print(f\"accuracy: {matches.mean():.2f}\")\n",
        "  print(\"\\n\")"
      ],
      "metadata": {
        "id": "mf9jiYopK1zj",
        "colab": {
          "base_uri": "https://localhost:8080/"
        },
        "outputId": "dcd132f4-cc01-4e37-c0cc-8306d7e6919a"
      },
      "execution_count": null,
      "outputs": [
        {
          "output_type": "stream",
          "name": "stdout",
          "text": [
            "epoch  1\n",
            "Epoch 0\n",
            "loss at batch 0: 0.29\n",
            "loss at batch 100: 0.25\n",
            "loss at batch 200: 0.24\n",
            "loss at batch 300: 0.31\n",
            "loss at batch 400: 0.41\n",
            "accuracy: 0.91\n",
            "\n",
            "\n",
            "epoch  3\n",
            "Epoch 0\n",
            "loss at batch 0: 0.27\n",
            "loss at batch 100: 0.25\n",
            "loss at batch 200: 0.24\n",
            "loss at batch 300: 0.31\n",
            "loss at batch 400: 0.41\n",
            "Epoch 1\n",
            "loss at batch 0: 0.27\n",
            "loss at batch 100: 0.25\n",
            "loss at batch 200: 0.24\n",
            "loss at batch 300: 0.31\n",
            "loss at batch 400: 0.41\n",
            "Epoch 2\n",
            "loss at batch 0: 0.27\n",
            "loss at batch 100: 0.25\n",
            "loss at batch 200: 0.24\n",
            "loss at batch 300: 0.31\n",
            "loss at batch 400: 0.41\n",
            "accuracy: 0.91\n",
            "\n",
            "\n",
            "epoch  5\n",
            "Epoch 0\n",
            "loss at batch 0: 0.27\n",
            "loss at batch 100: 0.25\n",
            "loss at batch 200: 0.24\n",
            "loss at batch 300: 0.31\n",
            "loss at batch 400: 0.40\n",
            "Epoch 1\n",
            "loss at batch 0: 0.27\n",
            "loss at batch 100: 0.25\n",
            "loss at batch 200: 0.24\n",
            "loss at batch 300: 0.31\n",
            "loss at batch 400: 0.40\n",
            "Epoch 2\n",
            "loss at batch 0: 0.27\n",
            "loss at batch 100: 0.25\n",
            "loss at batch 200: 0.24\n",
            "loss at batch 300: 0.30\n",
            "loss at batch 400: 0.40\n",
            "Epoch 3\n",
            "loss at batch 0: 0.27\n",
            "loss at batch 100: 0.25\n",
            "loss at batch 200: 0.24\n",
            "loss at batch 300: 0.30\n",
            "loss at batch 400: 0.40\n",
            "Epoch 4\n",
            "loss at batch 0: 0.26\n",
            "loss at batch 100: 0.24\n",
            "loss at batch 200: 0.24\n",
            "loss at batch 300: 0.30\n",
            "loss at batch 400: 0.40\n",
            "accuracy: 0.91\n",
            "\n",
            "\n",
            "epoch  7\n",
            "Epoch 0\n",
            "loss at batch 0: 0.26\n",
            "loss at batch 100: 0.24\n",
            "loss at batch 200: 0.24\n",
            "loss at batch 300: 0.30\n",
            "loss at batch 400: 0.40\n",
            "Epoch 1\n",
            "loss at batch 0: 0.26\n",
            "loss at batch 100: 0.24\n",
            "loss at batch 200: 0.24\n",
            "loss at batch 300: 0.30\n",
            "loss at batch 400: 0.40\n",
            "Epoch 2\n",
            "loss at batch 0: 0.26\n",
            "loss at batch 100: 0.24\n",
            "loss at batch 200: 0.24\n",
            "loss at batch 300: 0.30\n",
            "loss at batch 400: 0.40\n",
            "Epoch 3\n",
            "loss at batch 0: 0.26\n",
            "loss at batch 100: 0.24\n",
            "loss at batch 200: 0.24\n",
            "loss at batch 300: 0.30\n",
            "loss at batch 400: 0.40\n",
            "Epoch 4\n",
            "loss at batch 0: 0.26\n",
            "loss at batch 100: 0.24\n",
            "loss at batch 200: 0.24\n",
            "loss at batch 300: 0.30\n",
            "loss at batch 400: 0.40\n",
            "Epoch 5\n",
            "loss at batch 0: 0.26\n",
            "loss at batch 100: 0.24\n",
            "loss at batch 200: 0.24\n",
            "loss at batch 300: 0.30\n",
            "loss at batch 400: 0.40\n",
            "Epoch 6\n",
            "loss at batch 0: 0.26\n",
            "loss at batch 100: 0.24\n",
            "loss at batch 200: 0.24\n",
            "loss at batch 300: 0.30\n",
            "loss at batch 400: 0.40\n",
            "accuracy: 0.91\n",
            "\n",
            "\n",
            "epoch  9\n",
            "Epoch 0\n",
            "loss at batch 0: 0.26\n",
            "loss at batch 100: 0.24\n",
            "loss at batch 200: 0.23\n",
            "loss at batch 300: 0.30\n",
            "loss at batch 400: 0.40\n",
            "Epoch 1\n",
            "loss at batch 0: 0.26\n",
            "loss at batch 100: 0.24\n",
            "loss at batch 200: 0.23\n",
            "loss at batch 300: 0.30\n",
            "loss at batch 400: 0.40\n",
            "Epoch 2\n",
            "loss at batch 0: 0.26\n",
            "loss at batch 100: 0.24\n",
            "loss at batch 200: 0.23\n",
            "loss at batch 300: 0.30\n",
            "loss at batch 400: 0.39\n",
            "Epoch 3\n",
            "loss at batch 0: 0.25\n",
            "loss at batch 100: 0.24\n",
            "loss at batch 200: 0.23\n",
            "loss at batch 300: 0.30\n",
            "loss at batch 400: 0.39\n",
            "Epoch 4\n",
            "loss at batch 0: 0.25\n",
            "loss at batch 100: 0.24\n",
            "loss at batch 200: 0.23\n",
            "loss at batch 300: 0.30\n",
            "loss at batch 400: 0.39\n",
            "Epoch 5\n",
            "loss at batch 0: 0.25\n",
            "loss at batch 100: 0.24\n",
            "loss at batch 200: 0.23\n",
            "loss at batch 300: 0.30\n",
            "loss at batch 400: 0.39\n",
            "Epoch 6\n",
            "loss at batch 0: 0.25\n",
            "loss at batch 100: 0.24\n",
            "loss at batch 200: 0.23\n",
            "loss at batch 300: 0.30\n",
            "loss at batch 400: 0.39\n",
            "Epoch 7\n",
            "loss at batch 0: 0.25\n",
            "loss at batch 100: 0.23\n",
            "loss at batch 200: 0.23\n",
            "loss at batch 300: 0.30\n",
            "loss at batch 400: 0.39\n",
            "Epoch 8\n",
            "loss at batch 0: 0.25\n",
            "loss at batch 100: 0.23\n",
            "loss at batch 200: 0.23\n",
            "loss at batch 300: 0.30\n",
            "loss at batch 400: 0.39\n",
            "accuracy: 0.91\n",
            "\n",
            "\n"
          ]
        }
      ]
    },
    {
      "cell_type": "code",
      "source": [
        "error_arr=[]\n",
        "#for epoch in range(1,11,2):\n",
        "print(\"epoch \", epoch)\n",
        "fit(model, train_images, train_labels, epochs=10, batch_size=128)\n",
        "import numpy as np\n",
        "predictions = model(test_images)\n",
        "predictions = predictions.numpy()\n",
        "predicted_labels = np.argmax(predictions, axis=1)\n",
        "matches = predicted_labels == test_labels\n",
        "error_arr.append(tf.reduce_mean(tf.math.square(predicted_labels - test_labels), axis=-1))\n",
        "print(f\"accuracy: {matches.mean():.2f}\")\n",
        "print(\"\\n\")"
      ],
      "metadata": {
        "colab": {
          "base_uri": "https://localhost:8080/"
        },
        "id": "aidej2_-T2Lx",
        "outputId": "77d28d49-6756-4ae7-8af9-88be9193512e"
      },
      "execution_count": null,
      "outputs": [
        {
          "output_type": "stream",
          "name": "stdout",
          "text": [
            "epoch  1\n",
            "Epoch 0\n",
            "loss at batch 0: 0.31\n",
            "loss at batch 100: 0.27\n",
            "loss at batch 200: 0.26\n",
            "loss at batch 300: 0.32\n",
            "loss at batch 400: 0.43\n",
            "Epoch 1\n",
            "loss at batch 0: 0.29\n",
            "loss at batch 100: 0.27\n",
            "loss at batch 200: 0.26\n",
            "loss at batch 300: 0.32\n",
            "loss at batch 400: 0.42\n",
            "Epoch 2\n",
            "loss at batch 0: 0.29\n",
            "loss at batch 100: 0.27\n",
            "loss at batch 200: 0.25\n",
            "loss at batch 300: 0.32\n",
            "loss at batch 400: 0.42\n",
            "Epoch 3\n",
            "loss at batch 0: 0.29\n",
            "loss at batch 100: 0.27\n",
            "loss at batch 200: 0.25\n",
            "loss at batch 300: 0.32\n",
            "loss at batch 400: 0.42\n",
            "Epoch 4\n",
            "loss at batch 0: 0.29\n",
            "loss at batch 100: 0.27\n",
            "loss at batch 200: 0.25\n",
            "loss at batch 300: 0.32\n",
            "loss at batch 400: 0.42\n",
            "Epoch 5\n",
            "loss at batch 0: 0.29\n",
            "loss at batch 100: 0.27\n",
            "loss at batch 200: 0.25\n",
            "loss at batch 300: 0.32\n",
            "loss at batch 400: 0.42\n",
            "Epoch 6\n",
            "loss at batch 0: 0.29\n",
            "loss at batch 100: 0.26\n",
            "loss at batch 200: 0.25\n",
            "loss at batch 300: 0.32\n",
            "loss at batch 400: 0.42\n",
            "Epoch 7\n",
            "loss at batch 0: 0.29\n",
            "loss at batch 100: 0.26\n",
            "loss at batch 200: 0.25\n",
            "loss at batch 300: 0.32\n",
            "loss at batch 400: 0.42\n",
            "Epoch 8\n",
            "loss at batch 0: 0.28\n",
            "loss at batch 100: 0.26\n",
            "loss at batch 200: 0.25\n",
            "loss at batch 300: 0.31\n",
            "loss at batch 400: 0.42\n",
            "Epoch 9\n",
            "loss at batch 0: 0.28\n",
            "loss at batch 100: 0.26\n",
            "loss at batch 200: 0.25\n",
            "loss at batch 300: 0.31\n",
            "loss at batch 400: 0.42\n",
            "accuracy: 0.90\n",
            "\n",
            "\n"
          ]
        }
      ]
    },
    {
      "cell_type": "code",
      "source": [
        "#keras, epochs=3\n",
        "import tensorflow as tf\n",
        "from tensorflow.keras.datasets import mnist\n",
        "from tensorflow import keras\n",
        "from tensorflow.keras import layers\n",
        "\n",
        "(train_images2, train_labels), (test_images, test_labels) = mnist.load_data()\n",
        "train_images2 = train_images2.reshape((60000, 28 * 28))\n",
        "train_images2 = train_images2.astype(\"float32\") / 255\n",
        "test_images = test_images.reshape((10000, 28 * 28))\n",
        "test_images = test_images.astype(\"float32\") / 255\n",
        "print(train_images2.shape)\n",
        "\n",
        "model2 = keras.Sequential([\n",
        "    layers.Dense(512, activation=\"relu\"),\n",
        "    layers.Dense(10, activation=\"softmax\")\n",
        "])\n",
        "#https://www.tensorflow.org/api_docs/python/tf/keras/optimizers\n",
        "model2.compile(optimizer= \"rmsprop\",#sgd\n",
        "              loss=\"sparse_categorical_crossentropy\",\n",
        "              metrics=[\"accuracy\"])\n",
        "history =model2.fit(train_images2, train_labels, epochs=3, batch_size=128)\n"
      ],
      "metadata": {
        "id": "-bBVb8PnTwkE",
        "colab": {
          "base_uri": "https://localhost:8080/"
        },
        "outputId": "8b09b25e-830b-4efb-c849-a998db15ad09"
      },
      "execution_count": null,
      "outputs": [
        {
          "output_type": "stream",
          "name": "stdout",
          "text": [
            "(60000, 784)\n",
            "Epoch 1/3\n",
            "469/469 [==============================] - 5s 9ms/step - loss: 0.2665 - accuracy: 0.9229\n",
            "Epoch 2/3\n",
            "469/469 [==============================] - 4s 9ms/step - loss: 0.1081 - accuracy: 0.9687\n",
            "Epoch 3/3\n",
            "469/469 [==============================] - 8s 17ms/step - loss: 0.0706 - accuracy: 0.9789\n"
          ]
        }
      ]
    },
    {
      "cell_type": "code",
      "source": [
        "print(\"Evaluate model on test data\")\n",
        "results = model2.evaluate(test_images, test_labels,batch_size=128)\n",
        "print(\"test loss, test acc:\", results)\n",
        "\n",
        "# Generate a prediction using model.predict() \n",
        "# and calculate it's shape:\n",
        "print(\"Generate a prediction\")\n",
        "prediction = model.predict(test_images)\n",
        "print(\"prediction shape:\", prediction.shape)"
      ],
      "metadata": {
        "colab": {
          "base_uri": "https://localhost:8080/"
        },
        "id": "3uInZ4wV8-x0",
        "outputId": "1a4c0fe3-b055-4b92-c39a-e043857139e4"
      },
      "execution_count": null,
      "outputs": [
        {
          "output_type": "stream",
          "name": "stdout",
          "text": [
            "Evaluate model on test data\n",
            "79/79 [==============================] - 1s 7ms/step - loss: 0.0731 - accuracy: 0.9770\n",
            "test loss, test acc: [0.07306276261806488, 0.9769999980926514]\n",
            "Generate a prediction\n",
            "313/313 [==============================] - 1s 2ms/step\n",
            "prediction shape: (10000, 10)\n"
          ]
        }
      ]
    },
    {
      "cell_type": "markdown",
      "source": [
        "***ГРАФИКИ KERAS***"
      ],
      "metadata": {
        "id": "_eCLIapuCIw3"
      }
    },
    {
      "cell_type": "code",
      "source": [
        "plt.plot(history.history['accuracy'])"
      ],
      "metadata": {
        "colab": {
          "base_uri": "https://localhost:8080/",
          "height": 447
        },
        "id": "5BFqmjYkBDqu",
        "outputId": "c4b707ae-a682-47d1-f694-1295e24e8fc7"
      },
      "execution_count": null,
      "outputs": [
        {
          "output_type": "execute_result",
          "data": {
            "text/plain": [
              "[<matplotlib.lines.Line2D at 0x7f1b5bbe6100>]"
            ]
          },
          "metadata": {},
          "execution_count": 46
        },
        {
          "output_type": "display_data",
          "data": {
            "text/plain": [
              "<Figure size 640x480 with 1 Axes>"
            ],
            "image/png": "[encoded data removed]"
          },
          "metadata": {}
        }
      ]
    },
    {
      "cell_type": "code",
      "source": [
        "\n",
        "plt.plot(history.history['loss'])"
      ],
      "metadata": {
        "colab": {
          "base_uri": "https://localhost:8080/",
          "height": 450
        },
        "id": "Rh93mj8DBw4V",
        "outputId": "6dfe96d2-e3c2-466e-f758-b21d5b44d093"
      },
      "execution_count": null,
      "outputs": [
        {
          "output_type": "execute_result",
          "data": {
            "text/plain": [
              "[<matplotlib.lines.Line2D at 0x7f1b5a676f40>]"
            ]
          },
          "metadata": {},
          "execution_count": 47
        },
        {
          "output_type": "display_data",
          "data": {
            "text/plain": [
              "<Figure size 640x480 with 1 Axes>"
            ],
            "image/png": "[encoded data removed]"
          },
          "metadata": {}
        }
      ]
    }
  ]
}