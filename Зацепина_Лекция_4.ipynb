{
  "nbformat": 4,
  "nbformat_minor": 0,
  "metadata": {
    "colab": {
      "provenance": []
    },
    "kernelspec": {
      "name": "python3",
      "display_name": "Python 3"
    },
    "language_info": {
      "name": "python"
    }
  },
  "cells": [
    {
      "cell_type": "markdown",
      "source": [
        "#Классификация отзывов к фильмам"
      ],
      "metadata": {
        "id": "uQJbTzDpnlHu"
      }
    },
    {
      "cell_type": "markdown",
      "source": [
        "Загрузка набора данных"
      ],
      "metadata": {
        "id": "MI3RYfG1nsOa"
      }
    },
    {
      "cell_type": "code",
      "execution_count": null,
      "metadata": {
        "id": "4Fg9RJLwfwkT"
      },
      "outputs": [],
      "source": [
        "from tensorflow.keras.datasets import imdb\n",
        "(train_data, train_labels), (test_data, test_labels) = imdb.load_data(num_words=10000)"
      ]
    },
    {
      "cell_type": "code",
      "source": [
        "import numpy as np"
      ],
      "metadata": {
        "id": "PTNgElrEoGHh"
      },
      "execution_count": null,
      "outputs": []
    },
    {
      "cell_type": "code",
      "source": [
        "np.unique(train_labels)"
      ],
      "metadata": {
        "id": "7TNH3MkPnwcQ"
      },
      "execution_count": null,
      "outputs": []
    },
    {
      "cell_type": "code",
      "source": [
        "max([max(sequence) for sequence in train_data])"
      ],
      "metadata": {
        "id": "BwmkTp2MoFVQ",
        "colab": {
          "base_uri": "https://localhost:8080/"
        },
        "outputId": "2950a8e3-eee0-4fad-9ece-c05c2ae22934"
      },
      "execution_count": null,
      "outputs": [
        {
          "output_type": "execute_result",
          "data": {
            "text/plain": [
              "9999"
            ]
          },
          "metadata": {},
          "execution_count": 7
        }
      ]
    },
    {
      "cell_type": "code",
      "source": [],
      "metadata": {
        "id": "87i9LR_Ln3eg"
      },
      "execution_count": null,
      "outputs": []
    },
    {
      "cell_type": "markdown",
      "source": [
        "Декодирование отзывов в текстовое представление"
      ],
      "metadata": {
        "id": "M4t7GHd_q7-A"
      }
    },
    {
      "cell_type": "code",
      "source": [
        "word_index = imdb.get_word_index()\n",
        "reverse_word_index = dict(\n",
        "    [(value, key) for (key, value) in word_index.items()])\n",
        "decoded_review = \" \".join(\n",
        "    [reverse_word_index.get(i - 3, \"?\") for i in train_data[0]])"
      ],
      "metadata": {
        "id": "4yL2PiwsqIxg"
      },
      "execution_count": null,
      "outputs": []
    },
    {
      "cell_type": "code",
      "source": [
        "decoded_review"
      ],
      "metadata": {
        "id": "FQ2NvXXFqMfo",
        "colab": {
          "base_uri": "https://localhost:8080/",
          "height": 226
        },
        "outputId": "38b08480-df7c-4b87-e15c-2cdb3fcc3cd6"
      },
      "execution_count": null,
      "outputs": [
        {
          "output_type": "execute_result",
          "data": {
            "text/plain": [
              "\"? this film was just brilliant casting location scenery story direction everyone's really suited the part they played and you could just imagine being there robert ? is an amazing actor and now the same being director ? father came from the same scottish island as myself so i loved the fact there was a real connection with this film the witty remarks throughout the film were great it was just brilliant so much that i bought the film as soon as it was released for ? and would recommend it to everyone to watch and the fly fishing was amazing really cried at the end it was so sad and you know what they say if you cry at a film it must have been good and this definitely was also ? to the two little boy's that played the ? of norman and paul they were just brilliant children are often left out of the ? list i think because the stars that play them all grown up are such a big profile for the whole film but these children are amazing and should be praised for what they have done don't you think the whole story was so lovely because it was true and was someone's life after all that was shared with us all\""
            ],
            "application/vnd.google.colaboratory.intrinsic+json": {
              "type": "string"
            }
          },
          "metadata": {},
          "execution_count": 37
        }
      ]
    },
    {
      "cell_type": "markdown",
      "source": [
        "##Подготовка данных"
      ],
      "metadata": {
        "id": "o1mLdImKsUNT"
      }
    },
    {
      "cell_type": "markdown",
      "source": [
        "Кодирование данных "
      ],
      "metadata": {
        "id": "7E6AwjsivPWb"
      }
    },
    {
      "cell_type": "code",
      "source": [
        "import numpy as np\n",
        "def vectorize_sequences(sequences, dimension=10000):\n",
        "    results = np.zeros((len(sequences), dimension))\n",
        "    for i, sequence in enumerate(sequences):\n",
        "        for j in sequence:\n",
        "            results[i, j] = 1.\n",
        "    return results\n",
        "x_train = vectorize_sequences(train_data)\n",
        "x_test = vectorize_sequences(test_data)"
      ],
      "metadata": {
        "id": "0c0V2Ks1rFwg"
      },
      "execution_count": null,
      "outputs": []
    },
    {
      "cell_type": "code",
      "source": [
        "x_train[0]"
      ],
      "metadata": {
        "id": "krz5-MLovRDG",
        "colab": {
          "base_uri": "https://localhost:8080/"
        },
        "outputId": "523a5744-6852-4730-97af-02727246fd7e"
      },
      "execution_count": null,
      "outputs": [
        {
          "output_type": "execute_result",
          "data": {
            "text/plain": [
              "array([0., 1., 1., ..., 0., 0., 0.])"
            ]
          },
          "metadata": {},
          "execution_count": 39
        }
      ]
    },
    {
      "cell_type": "code",
      "source": [
        "y_train = np.asarray(train_labels).astype(\"float32\")\n",
        "y_test = np.asarray(test_labels).astype(\"float32\")"
      ],
      "metadata": {
        "id": "Ksxsg-74vSh_"
      },
      "execution_count": null,
      "outputs": []
    },
    {
      "cell_type": "markdown",
      "source": [
        "##Создание архитектуры"
      ],
      "metadata": {
        "id": "PuD_7mX1wPaY"
      }
    },
    {
      "cell_type": "code",
      "source": [
        "from tensorflow import keras\n",
        "from tensorflow.keras import layers\n",
        "\n",
        "model = keras.Sequential([\n",
        "    layers.Dense(16, activation=\"relu\"),\n",
        "    layers.Dense(16, activation=\"relu\"),\n",
        "    layers.Dense(1, activation=\"sigmoid\")\n",
        "])"
      ],
      "metadata": {
        "id": "N8RO2EJhvclG"
      },
      "execution_count": null,
      "outputs": []
    },
    {
      "cell_type": "markdown",
      "source": [
        "Этап компиляции"
      ],
      "metadata": {
        "id": "YHbsAaySD-ni"
      }
    },
    {
      "cell_type": "code",
      "source": [
        "model.compile(optimizer=\"rmsprop\",\n",
        "              loss=\"binary_crossentropy\",\n",
        "              metrics=[\"accuracy\"])"
      ],
      "metadata": {
        "id": "Jst2wpZQvrEW"
      },
      "execution_count": null,
      "outputs": []
    },
    {
      "cell_type": "markdown",
      "source": [
        "Создание валиадционной выборки"
      ],
      "metadata": {
        "id": "TW5aWJMoEChP"
      }
    },
    {
      "cell_type": "code",
      "source": [
        "x_val = x_train[:10000]\n",
        "partial_x_train = x_train[10000:]\n",
        "y_val = y_train[:10000]\n",
        "partial_y_train = y_train[10000:]"
      ],
      "metadata": {
        "id": "JkUYCw-ev_YO",
        "colab": {
          "base_uri": "https://localhost:8080/",
          "height": 217
        },
        "outputId": "4a78e518-87e9-48b7-c0dc-7ccf62e0f8a8"
      },
      "execution_count": null,
      "outputs": [
        {
          "output_type": "error",
          "ename": "NameError",
          "evalue": "ignored",
          "traceback": [
            "\u001b[0;31m---------------------------------------------------------------------------\u001b[0m",
            "\u001b[0;31mNameError\u001b[0m                                 Traceback (most recent call last)",
            "\u001b[0;32m<ipython-input-6-cf8fd077d1db>\u001b[0m in \u001b[0;36m<cell line: 1>\u001b[0;34m()\u001b[0m\n\u001b[0;32m----> 1\u001b[0;31m \u001b[0mx_val\u001b[0m \u001b[0;34m=\u001b[0m \u001b[0mx_train\u001b[0m\u001b[0;34m[\u001b[0m\u001b[0;34m:\u001b[0m\u001b[0;36m10000\u001b[0m\u001b[0;34m]\u001b[0m\u001b[0;34m\u001b[0m\u001b[0;34m\u001b[0m\u001b[0m\n\u001b[0m\u001b[1;32m      2\u001b[0m \u001b[0mpartial_x_train\u001b[0m \u001b[0;34m=\u001b[0m \u001b[0mx_train\u001b[0m\u001b[0;34m[\u001b[0m\u001b[0;36m10000\u001b[0m\u001b[0;34m:\u001b[0m\u001b[0;34m]\u001b[0m\u001b[0;34m\u001b[0m\u001b[0;34m\u001b[0m\u001b[0m\n\u001b[1;32m      3\u001b[0m \u001b[0my_val\u001b[0m \u001b[0;34m=\u001b[0m \u001b[0my_train\u001b[0m\u001b[0;34m[\u001b[0m\u001b[0;34m:\u001b[0m\u001b[0;36m10000\u001b[0m\u001b[0;34m]\u001b[0m\u001b[0;34m\u001b[0m\u001b[0;34m\u001b[0m\u001b[0m\n\u001b[1;32m      4\u001b[0m \u001b[0mpartial_y_train\u001b[0m \u001b[0;34m=\u001b[0m \u001b[0my_train\u001b[0m\u001b[0;34m[\u001b[0m\u001b[0;36m10000\u001b[0m\u001b[0;34m:\u001b[0m\u001b[0;34m]\u001b[0m\u001b[0;34m\u001b[0m\u001b[0;34m\u001b[0m\u001b[0m\n",
            "\u001b[0;31mNameError\u001b[0m: name 'x_train' is not defined"
          ]
        }
      ]
    },
    {
      "cell_type": "markdown",
      "source": [
        "Обучение модели"
      ],
      "metadata": {
        "id": "b2rwLYHWEy-n"
      }
    },
    {
      "cell_type": "code",
      "source": [
        "history = model.fit(partial_x_train,\n",
        "                    partial_y_train,\n",
        "                    epochs=20,\n",
        "                    batch_size=512,\n",
        "                    validation_data=(x_val, y_val))"
      ],
      "metadata": {
        "id": "aiAPrr9rEH-g",
        "colab": {
          "base_uri": "https://localhost:8080/"
        },
        "outputId": "5c006a16-ee0a-4366-8777-fabc1f625547"
      },
      "execution_count": null,
      "outputs": [
        {
          "output_type": "stream",
          "name": "stdout",
          "text": [
            "Epoch 1/20\n",
            "30/30 [==============================] - 1s 22ms/step - loss: 0.1233 - accuracy: 0.9595 - val_loss: 0.2961 - val_accuracy: 0.8851\n",
            "Epoch 2/20\n",
            "30/30 [==============================] - 1s 21ms/step - loss: 0.1022 - accuracy: 0.9677 - val_loss: 0.3087 - val_accuracy: 0.8825\n",
            "Epoch 3/20\n",
            "30/30 [==============================] - 1s 27ms/step - loss: 0.0898 - accuracy: 0.9730 - val_loss: 0.3367 - val_accuracy: 0.8822\n",
            "Epoch 4/20\n",
            "30/30 [==============================] - 1s 21ms/step - loss: 0.0769 - accuracy: 0.9785 - val_loss: 0.3532 - val_accuracy: 0.8794\n",
            "Epoch 5/20\n",
            "30/30 [==============================] - 1s 21ms/step - loss: 0.0681 - accuracy: 0.9816 - val_loss: 0.3611 - val_accuracy: 0.8785\n",
            "Epoch 6/20\n",
            "30/30 [==============================] - 1s 22ms/step - loss: 0.0568 - accuracy: 0.9856 - val_loss: 0.4001 - val_accuracy: 0.8751\n",
            "Epoch 7/20\n",
            "30/30 [==============================] - 1s 30ms/step - loss: 0.0521 - accuracy: 0.9878 - val_loss: 0.4072 - val_accuracy: 0.8760\n",
            "Epoch 8/20\n",
            "30/30 [==============================] - 1s 29ms/step - loss: 0.0422 - accuracy: 0.9905 - val_loss: 0.4210 - val_accuracy: 0.8757\n",
            "Epoch 9/20\n",
            "30/30 [==============================] - 1s 22ms/step - loss: 0.0361 - accuracy: 0.9922 - val_loss: 0.4471 - val_accuracy: 0.8736\n",
            "Epoch 10/20\n",
            "30/30 [==============================] - 1s 21ms/step - loss: 0.0322 - accuracy: 0.9935 - val_loss: 0.4729 - val_accuracy: 0.8728\n",
            "Epoch 11/20\n",
            "30/30 [==============================] - 1s 21ms/step - loss: 0.0236 - accuracy: 0.9965 - val_loss: 0.4922 - val_accuracy: 0.8726\n",
            "Epoch 12/20\n",
            "30/30 [==============================] - 1s 22ms/step - loss: 0.0241 - accuracy: 0.9960 - val_loss: 0.5172 - val_accuracy: 0.8708\n",
            "Epoch 13/20\n",
            "30/30 [==============================] - 1s 27ms/step - loss: 0.0185 - accuracy: 0.9977 - val_loss: 0.5513 - val_accuracy: 0.8674\n",
            "Epoch 14/20\n",
            "30/30 [==============================] - 1s 20ms/step - loss: 0.0130 - accuracy: 0.9993 - val_loss: 0.5692 - val_accuracy: 0.8676\n",
            "Epoch 15/20\n",
            "30/30 [==============================] - 1s 22ms/step - loss: 0.0156 - accuracy: 0.9983 - val_loss: 0.5906 - val_accuracy: 0.8689\n",
            "Epoch 16/20\n",
            "30/30 [==============================] - 1s 20ms/step - loss: 0.0114 - accuracy: 0.9988 - val_loss: 0.6098 - val_accuracy: 0.8692\n",
            "Epoch 17/20\n",
            "30/30 [==============================] - 1s 20ms/step - loss: 0.0117 - accuracy: 0.9981 - val_loss: 0.6299 - val_accuracy: 0.8674\n",
            "Epoch 18/20\n",
            "30/30 [==============================] - 1s 21ms/step - loss: 0.0102 - accuracy: 0.9983 - val_loss: 0.6480 - val_accuracy: 0.8672\n",
            "Epoch 19/20\n",
            "30/30 [==============================] - 1s 21ms/step - loss: 0.0052 - accuracy: 0.9999 - val_loss: 0.6738 - val_accuracy: 0.8674\n",
            "Epoch 20/20\n",
            "30/30 [==============================] - 1s 20ms/step - loss: 0.0075 - accuracy: 0.9990 - val_loss: 0.6906 - val_accuracy: 0.8674\n"
          ]
        }
      ]
    },
    {
      "cell_type": "code",
      "source": [
        "history_dict = history.history\n",
        "history_dict.keys()"
      ],
      "metadata": {
        "id": "-4nMZY9pE0Zv",
        "colab": {
          "base_uri": "https://localhost:8080/"
        },
        "outputId": "60178f18-1ce2-49f1-e878-5b2edea528f4"
      },
      "execution_count": null,
      "outputs": [
        {
          "output_type": "execute_result",
          "data": {
            "text/plain": [
              "dict_keys(['loss', 'accuracy', 'val_loss', 'val_accuracy'])"
            ]
          },
          "metadata": {},
          "execution_count": 46
        }
      ]
    },
    {
      "cell_type": "markdown",
      "source": [
        "Построение графика функции потерь"
      ],
      "metadata": {
        "id": "V1XLhAK1Fuot"
      }
    },
    {
      "cell_type": "code",
      "source": [
        "import matplotlib.pyplot as plt\n",
        "history_dict = history.history\n",
        "loss_values = history_dict[\"loss\"]\n",
        "val_loss_values = history_dict[\"val_loss\"]\n",
        "epochs = range(1, len(loss_values) + 1)\n",
        "plt.plot(epochs, loss_values, \"bo\", label=\"Training loss\")\n",
        "plt.plot(epochs, val_loss_values, \"b\", label=\"Validation loss\")\n",
        "plt.title(\"Training and validation loss\")\n",
        "plt.xlabel(\"Epochs\")\n",
        "plt.ylabel(\"Loss\")\n",
        "plt.legend()\n",
        "plt.show()"
      ],
      "metadata": {
        "id": "cevApz7hFX85",
        "colab": {
          "base_uri": "https://localhost:8080/",
          "height": 472
        },
        "outputId": "91dd6897-99d8-4c81-b5bc-902f27e64b23"
      },
      "execution_count": null,
      "outputs": [
        {
          "output_type": "display_data",
          "data": {
            "text/plain": [
              "<Figure size 640x480 with 1 Axes>"
            ],
            "image/png": "[encoded data removed]"
          },
          "metadata": {}
        }
      ]
    },
    {
      "cell_type": "markdown",
      "source": [
        "График точности"
      ],
      "metadata": {
        "id": "_LeXFStxFxMi"
      }
    },
    {
      "cell_type": "code",
      "source": [
        "plt.clf()\n",
        "acc = history_dict[\"accuracy\"]\n",
        "val_acc = history_dict[\"val_accuracy\"]\n",
        "plt.plot(epochs, acc, \"bo\", label=\"Training acc\")\n",
        "plt.plot(epochs, val_acc, \"b\", label=\"Validation acc\")\n",
        "plt.title(\"Training and validation accuracy\")\n",
        "plt.xlabel(\"Epochs\")\n",
        "plt.ylabel(\"Accuracy\")\n",
        "plt.legend()\n",
        "plt.show()"
      ],
      "metadata": {
        "id": "jFRdvdpCFaBA",
        "colab": {
          "base_uri": "https://localhost:8080/",
          "height": 472
        },
        "outputId": "79f11b1b-8a0e-422e-e4c9-7fbc740771b5"
      },
      "execution_count": null,
      "outputs": [
        {
          "output_type": "display_data",
          "data": {
            "text/plain": [
              "<Figure size 640x480 with 1 Axes>"
            ],
            "image/png": "[encoded data removed]"
          },
          "metadata": {}
        }
      ]
    },
    {
      "cell_type": "markdown",
      "source": [
        "Обучение модели в течение 4 эпох и оценка ее качества на тестовой выборке"
      ],
      "metadata": {
        "id": "_DIt3hPwGx67"
      }
    },
    {
      "cell_type": "code",
      "source": [
        "model = keras.Sequential([\n",
        "    layers.Dense(16, activation=\"relu\"),\n",
        "    layers.Dense(16, activation=\"relu\"),\n",
        "    layers.Dense(1, activation=\"sigmoid\")\n",
        "])\n",
        "model.compile(optimizer=\"rmsprop\",\n",
        "              loss=\"binary_crossentropy\",\n",
        "              metrics=[\"accuracy\"])\n",
        "model.fit(x_train, y_train, epochs=4, batch_size=512)\n",
        "results = model.evaluate(x_test, y_test)"
      ],
      "metadata": {
        "id": "D13hriqtFzhI",
        "colab": {
          "base_uri": "https://localhost:8080/"
        },
        "outputId": "d1bcecfd-b619-4dff-8cbb-0568aba20ee4"
      },
      "execution_count": null,
      "outputs": [
        {
          "output_type": "stream",
          "name": "stdout",
          "text": [
            "Epoch 1/4\n",
            "49/49 [==============================] - 1s 14ms/step - loss: 0.4917 - accuracy: 0.8122\n",
            "Epoch 2/4\n",
            "49/49 [==============================] - 1s 14ms/step - loss: 0.2932 - accuracy: 0.8980\n",
            "Epoch 3/4\n",
            "49/49 [==============================] - 1s 14ms/step - loss: 0.2283 - accuracy: 0.9170\n",
            "Epoch 4/4\n",
            "49/49 [==============================] - 1s 14ms/step - loss: 0.1934 - accuracy: 0.9307\n",
            "782/782 [==============================] - 1s 1ms/step - loss: 0.2925 - accuracy: 0.8809\n"
          ]
        }
      ]
    },
    {
      "cell_type": "code",
      "source": [
        "results"
      ],
      "metadata": {
        "id": "ax1u2kM_G1rP",
        "colab": {
          "base_uri": "https://localhost:8080/"
        },
        "outputId": "dcda54b4-c791-4a7d-b71f-78e28c5d2b82"
      },
      "execution_count": null,
      "outputs": [
        {
          "output_type": "execute_result",
          "data": {
            "text/plain": [
              "[0.292546808719635, 0.8809199929237366]"
            ]
          },
          "metadata": {},
          "execution_count": 50
        }
      ]
    },
    {
      "cell_type": "markdown",
      "source": [
        "Получение прогноза на новых данных, не имеющих эталона"
      ],
      "metadata": {
        "id": "gPatLc0DHVqP"
      }
    },
    {
      "cell_type": "code",
      "source": [
        "model.predict(x_test)"
      ],
      "metadata": {
        "id": "cEkyjJOYG6XY",
        "colab": {
          "base_uri": "https://localhost:8080/"
        },
        "outputId": "2c80da25-52ef-4fbe-f516-d417e0e3a54f"
      },
      "execution_count": null,
      "outputs": [
        {
          "output_type": "stream",
          "name": "stdout",
          "text": [
            "782/782 [==============================] - 1s 1ms/step\n"
          ]
        },
        {
          "output_type": "execute_result",
          "data": {
            "text/plain": [
              "array([[0.1638726 ],\n",
              "       [0.9993506 ],\n",
              "       [0.6875635 ],\n",
              "       ...,\n",
              "       [0.06243258],\n",
              "       [0.07170293],\n",
              "       [0.50366056]], dtype=float32)"
            ]
          },
          "metadata": {},
          "execution_count": 51
        }
      ]
    },
    {
      "cell_type": "markdown",
      "source": [
        "#Домашнее задание:"
      ],
      "metadata": {
        "id": "tzZ290WpJFTW"
      }
    },
    {
      "cell_type": "markdown",
      "source": [
        "![image.png](data:image/png;base64,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)"
      ],
      "metadata": {
        "id": "PAv7SnBXdmfY"
      }
    },
    {
      "cell_type": "markdown",
      "source": [
        "---\n",
        "1. Изменим количество слоев"
      ],
      "metadata": {
        "id": "z6CK7kP8oYlf"
      }
    },
    {
      "cell_type": "markdown",
      "source": [
        "Увеличим количество слоев"
      ],
      "metadata": {
        "id": "hQhfm6oXe2N3"
      }
    },
    {
      "cell_type": "code",
      "source": [
        "from tensorflow import keras\n",
        "from tensorflow.keras import layers\n",
        "\n",
        "model1 = keras.Sequential([\n",
        "    layers.Dense(16, activation=\"relu\"),\n",
        "    layers.Dense(16, activation=\"relu\"),\n",
        "    \n",
        "    layers.Dense(16, activation=\"relu\"),\n",
        "\n",
        "    layers.Dense(1, activation=\"sigmoid\")\n",
        "])"
      ],
      "metadata": {
        "id": "g628SL1SHZII"
      },
      "execution_count": null,
      "outputs": []
    },
    {
      "cell_type": "code",
      "source": [
        "model1.compile(optimizer=\"rmsprop\",\n",
        "              loss=\"binary_crossentropy\",\n",
        "              metrics=[\"accuracy\"])"
      ],
      "metadata": {
        "id": "NOcva_qdeZ_w"
      },
      "execution_count": null,
      "outputs": []
    },
    {
      "cell_type": "code",
      "source": [
        "x_val1 = x_train[:10000]\n",
        "partial_x_train1 = x_train[10000:]\n",
        "y_val1 = y_train[:10000]\n",
        "partial_y_train1 = y_train[10000:]"
      ],
      "metadata": {
        "id": "iPn2jLKPebIb"
      },
      "execution_count": null,
      "outputs": []
    },
    {
      "cell_type": "code",
      "source": [
        "history1 = model1.fit(x_train, y_train, epochs=4, batch_size=512)"
      ],
      "metadata": {
        "colab": {
          "base_uri": "https://localhost:8080/"
        },
        "id": "jA_nyCzWecx3",
        "outputId": "964ba387-c5fc-45b2-8331-18ae25f5fdf3"
      },
      "execution_count": null,
      "outputs": [
        {
          "output_type": "stream",
          "name": "stdout",
          "text": [
            "Epoch 1/4\n",
            "49/49 [==============================] - 1s 15ms/step - loss: 0.2231 - accuracy: 0.9456\n",
            "Epoch 2/4\n",
            "49/49 [==============================] - 1s 15ms/step - loss: 0.1294 - accuracy: 0.9608\n",
            "Epoch 3/4\n",
            "49/49 [==============================] - 1s 15ms/step - loss: 0.0952 - accuracy: 0.9710\n",
            "Epoch 4/4\n",
            "49/49 [==============================] - 1s 15ms/step - loss: 0.0759 - accuracy: 0.9772\n"
          ]
        }
      ]
    },
    {
      "cell_type": "code",
      "source": [
        "results1 = model1.evaluate(x_test, y_test)"
      ],
      "metadata": {
        "colab": {
          "base_uri": "https://localhost:8080/"
        },
        "id": "8GiNvdlofV1T",
        "outputId": "2ae3a616-a863-4222-cc93-3a29711eef7f"
      },
      "execution_count": null,
      "outputs": [
        {
          "output_type": "stream",
          "name": "stdout",
          "text": [
            "782/782 [==============================] - 1s 1ms/step - loss: 0.7131 - accuracy: 0.8591\n"
          ]
        }
      ]
    },
    {
      "cell_type": "markdown",
      "source": [
        "Уменьшим количество слоев"
      ],
      "metadata": {
        "id": "3jwQNNFOffho"
      }
    },
    {
      "cell_type": "code",
      "source": [
        "model2 = keras.Sequential([\n",
        "    layers.Dense(16, activation=\"relu\"),\n",
        "    layers.Dense(1, activation=\"sigmoid\")\n",
        "])\n",
        "model2.compile(optimizer=\"rmsprop\",\n",
        "              loss=\"binary_crossentropy\",\n",
        "              metrics=[\"accuracy\"])\n",
        "model2.fit(x_train, y_train, epochs=4, batch_size=512)\n",
        "results2 = model2.evaluate(x_test, y_test)"
      ],
      "metadata": {
        "colab": {
          "base_uri": "https://localhost:8080/"
        },
        "id": "opII-Rhgfing",
        "outputId": "aa4b4644-d4d6-4dee-b512-e8902e8db24b"
      },
      "execution_count": null,
      "outputs": [
        {
          "output_type": "stream",
          "name": "stdout",
          "text": [
            "Epoch 1/4\n",
            "49/49 [==============================] - 1s 16ms/step - loss: 0.4617 - accuracy: 0.8226\n",
            "Epoch 2/4\n",
            "49/49 [==============================] - 1s 16ms/step - loss: 0.2951 - accuracy: 0.8970\n",
            "Epoch 3/4\n",
            "49/49 [==============================] - 1s 16ms/step - loss: 0.2384 - accuracy: 0.9167\n",
            "Epoch 4/4\n",
            "49/49 [==============================] - 1s 15ms/step - loss: 0.2075 - accuracy: 0.9281\n",
            "782/782 [==============================] - 1s 1ms/step - loss: 0.2772 - accuracy: 0.8900\n"
          ]
        }
      ]
    },
    {
      "cell_type": "markdown",
      "source": [
        "**Выводы:**\n",
        "\n",
        "без изменений количества такие результаты -  loss: 0.3015 - accuracy: 0.8774\n",
        "\n",
        "при увеличении количества слоев - loss: 0.0759 - accuracy: 0.9772\n",
        "\n",
        "при уменьшении количества слоев - loss: 0.2772 - accuracy: 0.8900"
      ],
      "metadata": {
        "id": "L5DnEvDRfv3P"
      }
    },
    {
      "cell_type": "markdown",
      "source": [
        "---\n",
        "2.\n",
        "Изменим количество нейронов"
      ],
      "metadata": {
        "id": "Y7NKXDTrgz2g"
      }
    },
    {
      "cell_type": "markdown",
      "source": [
        "Увеличим в 2 раза"
      ],
      "metadata": {
        "id": "oyLgfEMehmCt"
      }
    },
    {
      "cell_type": "code",
      "source": [
        "model3 = keras.Sequential([\n",
        "    layers.Dense(32, activation=\"relu\"),\n",
        "    layers.Dense(32, activation=\"relu\"),\n",
        "    layers.Dense(1, activation=\"sigmoid\")\n",
        "])\n",
        "model3.compile(optimizer=\"rmsprop\",\n",
        "              loss=\"binary_crossentropy\",\n",
        "              metrics=[\"accuracy\"])\n",
        "model3.fit(x_train, y_train, epochs=4, batch_size=512)\n",
        "results3 = model3.evaluate(x_test, y_test)"
      ],
      "metadata": {
        "colab": {
          "base_uri": "https://localhost:8080/"
        },
        "id": "bm-iZhyDgt8b",
        "outputId": "6b4ea05a-70a5-43ce-d138-c2456527a71f"
      },
      "execution_count": null,
      "outputs": [
        {
          "output_type": "stream",
          "name": "stdout",
          "text": [
            "Epoch 1/4\n",
            "49/49 [==============================] - 1s 19ms/step - loss: 0.4554 - accuracy: 0.8055\n",
            "Epoch 2/4\n",
            "49/49 [==============================] - 1s 19ms/step - loss: 0.2610 - accuracy: 0.9016\n",
            "Epoch 3/4\n",
            "49/49 [==============================] - 1s 19ms/step - loss: 0.2062 - accuracy: 0.9237\n",
            "Epoch 4/4\n",
            "49/49 [==============================] - 1s 19ms/step - loss: 0.1761 - accuracy: 0.9344\n",
            "782/782 [==============================] - 1s 2ms/step - loss: 0.3234 - accuracy: 0.8738\n"
          ]
        }
      ]
    },
    {
      "cell_type": "markdown",
      "source": [
        "Увеличим в 4 раза"
      ],
      "metadata": {
        "id": "z33hJ5yRhqV_"
      }
    },
    {
      "cell_type": "code",
      "source": [
        "model4 = keras.Sequential([\n",
        "    layers.Dense(64, activation=\"relu\"),\n",
        "    layers.Dense(64, activation=\"relu\"),\n",
        "    layers.Dense(1, activation=\"sigmoid\")\n",
        "])\n",
        "model4.compile(optimizer=\"rmsprop\",\n",
        "              loss=\"binary_crossentropy\",\n",
        "              metrics=[\"accuracy\"])\n",
        "model4.fit(x_train, y_train, epochs=4, batch_size=512)\n",
        "results4 = model4.evaluate(x_test, y_test)"
      ],
      "metadata": {
        "colab": {
          "base_uri": "https://localhost:8080/"
        },
        "id": "fP20549jhp0z",
        "outputId": "d206da91-83ee-4337-e508-343d03a508dc"
      },
      "execution_count": null,
      "outputs": [
        {
          "output_type": "stream",
          "name": "stdout",
          "text": [
            "Epoch 1/4\n",
            "49/49 [==============================] - 2s 29ms/step - loss: 0.4433 - accuracy: 0.8044\n",
            "Epoch 2/4\n",
            "49/49 [==============================] - 1s 28ms/step - loss: 0.2604 - accuracy: 0.8981\n",
            "Epoch 3/4\n",
            "49/49 [==============================] - 1s 29ms/step - loss: 0.2101 - accuracy: 0.9203\n",
            "Epoch 4/4\n",
            "49/49 [==============================] - 2s 41ms/step - loss: 0.1757 - accuracy: 0.9329\n",
            "782/782 [==============================] - 3s 3ms/step - loss: 0.2921 - accuracy: 0.8844\n"
          ]
        }
      ]
    },
    {
      "cell_type": "markdown",
      "source": [
        "Уменьшим в 2 раза"
      ],
      "metadata": {
        "id": "sDJT-slrivbn"
      }
    },
    {
      "cell_type": "code",
      "source": [
        "model4 = keras.Sequential([\n",
        "    layers.Dense(8, activation=\"relu\"),\n",
        "    layers.Dense(8, activation=\"relu\"),\n",
        "    layers.Dense(1, activation=\"sigmoid\")\n",
        "])\n",
        "model4.compile(optimizer=\"rmsprop\",\n",
        "              loss=\"binary_crossentropy\",\n",
        "              metrics=[\"accuracy\"])\n",
        "model4.fit(x_train, y_train, epochs=4, batch_size=512)\n",
        "results4 = model4.evaluate(x_test, y_test)"
      ],
      "metadata": {
        "colab": {
          "base_uri": "https://localhost:8080/"
        },
        "id": "SqgFk94Viv1-",
        "outputId": "63e8c782-a6b8-4303-b0ce-c2f1d7248b71"
      },
      "execution_count": null,
      "outputs": [
        {
          "output_type": "stream",
          "name": "stdout",
          "text": [
            "Epoch 1/4\n",
            "49/49 [==============================] - 1s 14ms/step - loss: 0.5112 - accuracy: 0.7945\n",
            "Epoch 2/4\n",
            "49/49 [==============================] - 1s 16ms/step - loss: 0.3048 - accuracy: 0.9006\n",
            "Epoch 3/4\n",
            "49/49 [==============================] - 1s 22ms/step - loss: 0.2303 - accuracy: 0.9219\n",
            "Epoch 4/4\n",
            "49/49 [==============================] - 1s 14ms/step - loss: 0.1923 - accuracy: 0.9346\n",
            "782/782 [==============================] - 1s 1ms/step - loss: 0.2840 - accuracy: 0.8868\n"
          ]
        }
      ]
    },
    {
      "cell_type": "markdown",
      "source": [
        "Выводы:\n",
        "\n",
        "без изменений количества такие результаты - loss: 0.3015 - accuracy: 0.8774\n",
        "\n",
        "при увеличении в 2 раза количества слоев - loss: 0.3234 - accuracy: 0.8738\n",
        "\n",
        "при увеличении в 4 раза количества слоев - loss: 0.2921 - accuracy: 0.8844\n",
        "\n",
        "при уменьшении количества слоев - loss: 0.2840 - accuracy: 0.8868"
      ],
      "metadata": {
        "id": "volfMgMmjBES"
      }
    },
    {
      "cell_type": "code",
      "source": [
        "model5 = keras.Sequential([\n",
        "    layers.Dense(4, activation=\"relu\"),\n",
        "    layers.Dense(8, activation=\"relu\"),\n",
        "    layers.Dense(1, activation=\"sigmoid\")\n",
        "])\n",
        "model5.compile(optimizer=\"rmsprop\",\n",
        "              loss=\"binary_crossentropy\",\n",
        "              metrics=[\"accuracy\"])\n",
        "model5.fit(x_train, y_train, epochs=4, batch_size=512)\n",
        "results5 = model5.evaluate(x_test, y_test)"
      ],
      "metadata": {
        "colab": {
          "base_uri": "https://localhost:8080/"
        },
        "id": "HVUUHWken7TF",
        "outputId": "4053a351-c863-4596-9424-72ba0e8b3ad0"
      },
      "execution_count": null,
      "outputs": [
        {
          "output_type": "stream",
          "name": "stdout",
          "text": [
            "Epoch 1/4\n",
            "49/49 [==============================] - 1s 14ms/step - loss: 0.5740 - accuracy: 0.7870\n",
            "Epoch 2/4\n",
            "49/49 [==============================] - 1s 21ms/step - loss: 0.3819 - accuracy: 0.8786\n",
            "Epoch 3/4\n",
            "49/49 [==============================] - 1s 15ms/step - loss: 0.2868 - accuracy: 0.9022\n",
            "Epoch 4/4\n",
            "49/49 [==============================] - 1s 14ms/step - loss: 0.2348 - accuracy: 0.9192\n",
            "782/782 [==============================] - 1s 1ms/step - loss: 0.2885 - accuracy: 0.8843\n"
          ]
        }
      ]
    },
    {
      "cell_type": "code",
      "source": [
        "model5 = keras.Sequential([\n",
        "    layers.Dense(16, activation=\"relu\"),\n",
        "    layers.Dense(8, activation=\"relu\"),\n",
        "    layers.Dense(1, activation=\"sigmoid\")\n",
        "])\n",
        "model5.compile(optimizer=\"rmsprop\",\n",
        "              loss=\"binary_crossentropy\",\n",
        "              metrics=[\"accuracy\"])\n",
        "model5.fit(x_train, y_train, epochs=4, batch_size=512)\n",
        "results5 = model5.evaluate(x_test, y_test)"
      ],
      "metadata": {
        "colab": {
          "base_uri": "https://localhost:8080/"
        },
        "id": "HiUBDy4FoLd-",
        "outputId": "ae7e2ea1-7340-4e36-bb7a-9c960083680e"
      },
      "execution_count": null,
      "outputs": [
        {
          "output_type": "stream",
          "name": "stdout",
          "text": [
            "Epoch 1/4\n",
            "49/49 [==============================] - 1s 17ms/step - loss: 0.4865 - accuracy: 0.8075\n",
            "Epoch 2/4\n",
            "49/49 [==============================] - 1s 15ms/step - loss: 0.2874 - accuracy: 0.9035\n",
            "Epoch 3/4\n",
            "49/49 [==============================] - 1s 15ms/step - loss: 0.2227 - accuracy: 0.9222\n",
            "Epoch 4/4\n",
            "49/49 [==============================] - 1s 15ms/step - loss: 0.1880 - accuracy: 0.9330\n",
            "782/782 [==============================] - 1s 2ms/step - loss: 0.2795 - accuracy: 0.8878\n"
          ]
        }
      ]
    },
    {
      "cell_type": "markdown",
      "source": [
        "---\n",
        "3.\n",
        "Заменим функцию потерь"
      ],
      "metadata": {
        "id": "CPhrlRjOo77h"
      }
    },
    {
      "cell_type": "code",
      "source": [
        "from tensorflow import keras\n",
        "from tensorflow.keras import layers\n",
        "\n",
        "model6 = keras.Sequential([\n",
        "    layers.Dense(16, activation=\"relu\"),\n",
        "    layers.Dense(16, activation=\"relu\"),\n",
        "    layers.Dense(1, activation=\"sigmoid\")\n",
        "])\n",
        "model6.compile(optimizer=\"rmsprop\",\n",
        "              loss=\"mse\",\n",
        "              metrics=[\"accuracy\"])\n",
        "model6.fit(x_train, y_train, epochs=4, batch_size=512)\n",
        "results6 = model6.evaluate(x_test, y_test)"
      ],
      "metadata": {
        "colab": {
          "base_uri": "https://localhost:8080/"
        },
        "id": "h_ryFoVMpB7D",
        "outputId": "746a6a1a-341a-45e9-c2b6-1d1d53dbb81c"
      },
      "execution_count": null,
      "outputs": [
        {
          "output_type": "stream",
          "name": "stdout",
          "text": [
            "Epoch 1/4\n",
            "49/49 [==============================] - 1s 16ms/step - loss: 0.1611 - accuracy: 0.7990\n",
            "Epoch 2/4\n",
            "49/49 [==============================] - 1s 15ms/step - loss: 0.0896 - accuracy: 0.8969\n",
            "Epoch 3/4\n",
            "49/49 [==============================] - 1s 14ms/step - loss: 0.0706 - accuracy: 0.9163\n",
            "Epoch 4/4\n",
            "49/49 [==============================] - 1s 15ms/step - loss: 0.0597 - accuracy: 0.9289\n",
            "782/782 [==============================] - 1s 1ms/step - loss: 0.0852 - accuracy: 0.8850\n"
          ]
        }
      ]
    },
    {
      "cell_type": "markdown",
      "source": [
        "binary - loss: 0.3015 - accuracy: 0.8774\n",
        "\n",
        "mse    - loss: 0.0852 - accuracy: 0.8850\n",
        "\n",
        "Функция потерь уменьшилась"
      ],
      "metadata": {
        "id": "SM2rRHvrqXsM"
      }
    },
    {
      "cell_type": "markdown",
      "source": [
        "---\n",
        "4.\n",
        "Изменим функцию активации"
      ],
      "metadata": {
        "id": "b1sMpB5lsSGP"
      }
    },
    {
      "cell_type": "code",
      "source": [
        "model = keras.Sequential([\n",
        "    layers.Dense(16, activation=\"tanh\"),\n",
        "    layers.Dense(16, activation=\"tanh\"),\n",
        "    layers.Dense(1, activation=\"sigmoid\")\n",
        "])\n",
        "model.compile(optimizer=\"rmsprop\",\n",
        "              loss=\"binary_crossentropy\",\n",
        "              metrics=[\"accuracy\"])\n",
        "model.fit(x_train, y_train, epochs=4, batch_size=512)\n",
        "results = model.evaluate(x_test, y_test)"
      ],
      "metadata": {
        "colab": {
          "base_uri": "https://localhost:8080/"
        },
        "id": "dFLtYzS5sIqo",
        "outputId": "a46f3298-c33c-4430-a5d4-b5f288e917a5"
      },
      "execution_count": null,
      "outputs": [
        {
          "output_type": "stream",
          "name": "stdout",
          "text": [
            "Epoch 1/4\n",
            "49/49 [==============================] - 1s 16ms/step - loss: 0.4537 - accuracy: 0.8189\n",
            "Epoch 2/4\n",
            "49/49 [==============================] - 1s 17ms/step - loss: 0.2640 - accuracy: 0.9049\n",
            "Epoch 3/4\n",
            "49/49 [==============================] - 1s 22ms/step - loss: 0.1990 - accuracy: 0.9259\n",
            "Epoch 4/4\n",
            "49/49 [==============================] - 1s 18ms/step - loss: 0.1668 - accuracy: 0.9391\n",
            "782/782 [==============================] - 1s 1ms/step - loss: 0.3085 - accuracy: 0.8784\n"
          ]
        }
      ]
    },
    {
      "cell_type": "markdown",
      "source": [
        "binary - loss: 0.3015 - accuracy: 0.8774\n",
        "\n",
        "loss: 0.3085 - accuracy: 0.8784"
      ],
      "metadata": {
        "id": "17z3tHs5sgBJ"
      }
    },
    {
      "cell_type": "markdown",
      "source": [
        "Ничего не поменялась"
      ],
      "metadata": {
        "id": "NqvNYxsnsmVF"
      }
    },
    {
      "cell_type": "markdown",
      "source": [
        "---\n",
        "5.\n",
        "График"
      ],
      "metadata": {
        "id": "Nesv06Q4uPOG"
      }
    },
    {
      "cell_type": "markdown",
      "source": [
        "optimizer:\n",
        "\n",
        "SGD\n",
        "\n",
        "RMSprop\n",
        "\n",
        "Adam\n",
        "\n",
        "AdamW\n",
        "\n",
        "Adadelta\n",
        "\n",
        "Adagrad\n",
        "\n",
        "Adamax\n",
        "\n",
        "Adafactor\n",
        "\n",
        "Nadam\n",
        "\n",
        "Ftrl"
      ],
      "metadata": {
        "id": "jnThYOx_vd5Y"
      }
    },
    {
      "cell_type": "code",
      "source": [
        "model7 = keras.Sequential([\n",
        "    layers.Dense(16, activation=\"relu\"),\n",
        "    layers.Dense(16, activation=\"relu\"),\n",
        "    layers.Dense(1, activation=\"sigmoid\")\n",
        "])\n",
        "model7.compile(optimizer=\"rmsprop\",\n",
        "              loss=\"binary_crossentropy\",\n",
        "              metrics=[\"accuracy\"])\n",
        "history7 = model7.fit(x_train, y_train, epochs=4, batch_size=512)\n",
        "results7 = model7.evaluate(x_test, y_test)\n",
        "\n",
        "history_dict7 = history7.history"
      ],
      "metadata": {
        "colab": {
          "base_uri": "https://localhost:8080/"
        },
        "id": "jWoR_ZAfuX8V",
        "outputId": "2ef65891-5bde-4475-af4f-018be184f73f"
      },
      "execution_count": null,
      "outputs": [
        {
          "output_type": "stream",
          "name": "stdout",
          "text": [
            "Epoch 1/4\n",
            "49/49 [==============================] - 1s 18ms/step - loss: 0.4744 - accuracy: 0.8109\n",
            "Epoch 2/4\n",
            "49/49 [==============================] - 1s 16ms/step - loss: 0.2766 - accuracy: 0.9012\n",
            "Epoch 3/4\n",
            "49/49 [==============================] - 1s 14ms/step - loss: 0.2176 - accuracy: 0.9185\n",
            "Epoch 4/4\n",
            "49/49 [==============================] - 1s 14ms/step - loss: 0.1860 - accuracy: 0.9329\n",
            "782/782 [==============================] - 1s 1ms/step - loss: 0.3090 - accuracy: 0.8750\n"
          ]
        }
      ]
    },
    {
      "cell_type": "code",
      "source": [
        "\n",
        "history_dict7.keys()"
      ],
      "metadata": {
        "colab": {
          "base_uri": "https://localhost:8080/"
        },
        "id": "n0fTpcM7zk8b",
        "outputId": "759e3ee9-9523-4d10-9e8a-4a2052738aca"
      },
      "execution_count": null,
      "outputs": [
        {
          "output_type": "execute_result",
          "data": {
            "text/plain": [
              "dict_keys(['loss', 'accuracy'])"
            ]
          },
          "metadata": {},
          "execution_count": 13
        }
      ]
    },
    {
      "cell_type": "code",
      "source": [
        "model8 = keras.Sequential([\n",
        "    layers.Dense(16, activation=\"relu\"),\n",
        "    layers.Dense(16, activation=\"relu\"),\n",
        "    layers.Dense(1, activation=\"sigmoid\")\n",
        "])\n",
        "model8.compile(optimizer=\"sgd\",\n",
        "              loss=\"binary_crossentropy\",\n",
        "              metrics=[\"accuracy\"])\n",
        "history8 = model8.fit(x_train, y_train, epochs=4, batch_size=512)\n",
        "results8 = model8.evaluate(x_test, y_test)\n",
        "\n",
        "history_dict8 = history8.history\n"
      ],
      "metadata": {
        "colab": {
          "base_uri": "https://localhost:8080/"
        },
        "id": "yrMfWUvxu9Xc",
        "outputId": "b828c6c5-a368-4a23-f9a0-715070c6192d"
      },
      "execution_count": null,
      "outputs": [
        {
          "output_type": "stream",
          "name": "stdout",
          "text": [
            "Epoch 1/4\n",
            "49/49 [==============================] - 1s 15ms/step - loss: 0.6910 - accuracy: 0.5170\n",
            "Epoch 2/4\n",
            "49/49 [==============================] - 1s 14ms/step - loss: 0.6842 - accuracy: 0.5678\n",
            "Epoch 3/4\n",
            "49/49 [==============================] - 1s 14ms/step - loss: 0.6733 - accuracy: 0.6215\n",
            "Epoch 4/4\n",
            "49/49 [==============================] - 1s 14ms/step - loss: 0.6568 - accuracy: 0.6780\n",
            "782/782 [==============================] - 2s 2ms/step - loss: 0.6481 - accuracy: 0.7020\n"
          ]
        }
      ]
    },
    {
      "cell_type": "code",
      "source": [
        "model9 = keras.Sequential([\n",
        "    layers.Dense(16, activation=\"relu\"),\n",
        "    layers.Dense(16, activation=\"relu\"),\n",
        "    layers.Dense(1, activation=\"sigmoid\")\n",
        "])\n",
        "model9.compile(optimizer=\"adam\",\n",
        "              loss=\"binary_crossentropy\",\n",
        "              metrics=[\"accuracy\"])\n",
        "history9 = model9.fit(x_train, y_train, epochs=4, batch_size=512)\n",
        "results9 = model9.evaluate(x_test, y_test)\n",
        "\n",
        "history_dict9 = history9.history\n"
      ],
      "metadata": {
        "colab": {
          "base_uri": "https://localhost:8080/"
        },
        "id": "2b5vMEwCvQgc",
        "outputId": "1f93570f-5fce-4fb5-e474-db7e473f5aa3"
      },
      "execution_count": null,
      "outputs": [
        {
          "output_type": "stream",
          "name": "stdout",
          "text": [
            "Epoch 1/4\n",
            "49/49 [==============================] - 1s 15ms/step - loss: 0.4780 - accuracy: 0.8096\n",
            "Epoch 2/4\n",
            "49/49 [==============================] - 1s 15ms/step - loss: 0.2461 - accuracy: 0.9117\n",
            "Epoch 3/4\n",
            "49/49 [==============================] - 1s 15ms/step - loss: 0.1811 - accuracy: 0.9351\n",
            "Epoch 4/4\n",
            "49/49 [==============================] - 1s 14ms/step - loss: 0.1445 - accuracy: 0.9506\n",
            "782/782 [==============================] - 2s 2ms/step - loss: 0.3167 - accuracy: 0.8780\n"
          ]
        }
      ]
    },
    {
      "cell_type": "markdown",
      "source": [
        "---"
      ],
      "metadata": {
        "id": "Fof1YV3-wAQc"
      }
    },
    {
      "cell_type": "code",
      "source": [
        "import matplotlib.pyplot as plt\n",
        "plt.clf()\n",
        "\n",
        "\n",
        "acc7 = history_dict7[\"accuracy\"]\n",
        "\n",
        "acc8 = history_dict8[\"accuracy\"]\n",
        "\n",
        "acc9 = history_dict9[\"accuracy\"]\n",
        "\n",
        "epochs = range(1, len(acc7 ) + 1)\n",
        "\n",
        "plt.plot(epochs, acc7, \"bo\", label=\"Training acc1\")\n",
        "\n",
        "plt.plot(epochs, acc8, \"go\", label=\"Training acc2\")\n",
        "\n",
        "plt.plot(epochs, acc9, \"ro\", label=\"Training acc3\")\n",
        "\n",
        "plt.title(\"Training and validation accuracy\")\n",
        "plt.xlabel(\"Epochs\")\n",
        "plt.ylabel(\"Accuracy\")\n",
        "\n",
        "plt.legend()\n",
        "plt.show()"
      ],
      "metadata": {
        "colab": {
          "base_uri": "https://localhost:8080/",
          "height": 472
        },
        "id": "pFJdibuZtIiX",
        "outputId": "a8f093f7-4f7c-44ec-8759-7047ed9cb490"
      },
      "execution_count": null,
      "outputs": [
        {
          "output_type": "display_data",
          "data": {
            "text/plain": [
              "<Figure size 640x480 with 1 Axes>"
            ],
            "image/png": "[encoded data removed]"
          },
          "metadata": {}
        }
      ]
    },
    {
      "cell_type": "code",
      "source": [
        "import matplotlib.pyplot as plt\n",
        "\n",
        "loss_values7 = history_dict7[\"loss\"]\n",
        "loss_values8 = history_dict8[\"loss\"]\n",
        "loss_values9 = history_dict9[\"loss\"]\n",
        "epochs = range(1, len(loss_values7) + 1)\n",
        "\n",
        "plt.plot(epochs, loss_values7, \"go\", label=\"Training loss1\")\n",
        "\n",
        "plt.plot(epochs, loss_values8, \"bo\", label=\"Training loss2\")\n",
        "\n",
        "plt.plot(epochs, loss_values9, \"ro\", label=\"Training loss3\")\n",
        "\n",
        "plt.title(\"Training loss\")\n",
        "plt.xlabel(\"Epochs\")\n",
        "plt.ylabel(\"Loss\")\n",
        "plt.legend()\n",
        "plt.show()"
      ],
      "metadata": {
        "colab": {
          "base_uri": "https://localhost:8080/",
          "height": 472
        },
        "id": "IEtoRSrTtGlM",
        "outputId": "11304e83-f991-44a4-cdcf-9e0132fb48a3"
      },
      "execution_count": null,
      "outputs": [
        {
          "output_type": "display_data",
          "data": {
            "text/plain": [
              "<Figure size 640x480 with 1 Axes>"
            ],
            "image/png": "[encoded data removed]"
          },
          "metadata": {}
        }
      ]
    },
    {
      "cell_type": "code",
      "source": [],
      "metadata": {
        "id": "is3XQQPGt_v6"
      },
      "execution_count": null,
      "outputs": []
    }
  ]
}