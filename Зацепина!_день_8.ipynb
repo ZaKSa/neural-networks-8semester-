{
  "nbformat": 4,
  "nbformat_minor": 0,
  "metadata": {
    "colab": {
      "provenance": [],
      "include_colab_link": true
    },
    "kernelspec": {
      "name": "python3",
      "display_name": "Python 3"
    },
    "language_info": {
      "name": "python"
    }
  },
  "cells": [
    {
      "cell_type": "markdown",
      "metadata": {
        "id": "view-in-github",
        "colab_type": "text"
      },
      "source": [
        "<a href=\"https://colab.research.google.com/github/ZaKSa/neural-networks-8semester-/blob/marathon/%D0%97%D0%B0%D1%86%D0%B5%D0%BF%D0%B8%D0%BD%D0%B0!_%D0%B4%D0%B5%D0%BD%D1%8C_8.ipynb\" target=\"_parent\"><img src=\"https://colab.research.google.com/assets/colab-badge.svg\" alt=\"Open In Colab\"/></a>"
      ]
    },
    {
      "cell_type": "code",
      "execution_count": null,
      "metadata": {
        "colab": {
          "base_uri": "https://localhost:8080/"
        },
        "id": "SviLq_OS62cv",
        "outputId": "e58008b0-a5ba-4733-f197-6b78ba9adc49"
      },
      "outputs": [
        {
          "output_type": "stream",
          "name": "stdout",
          "text": [
            "(60000, 784)\n",
            "[0. 0. 0. 1. 0. 0. 0. 0. 0. 0.]\n"
          ]
        }
      ],
      "source": [
        "from keras.datasets import mnist\n",
        "import numpy as np\n",
        "\n",
        "(train_images, train_labels), (test_images, test_labels) = mnist.load_data() #Загрузить набор данных MNIST\n",
        "#Преобразуем изображение(28*28) в вектор (размерность 784), разворачиваем матрицу:В Вектор записываем первый ряд пикселей, потом второй и т.д.\n",
        "train_images = train_images.reshape(train_images.shape[0], (train_images.shape[1]*train_images.shape[2]))\n",
        "print(train_images.shape)\n",
        "\n",
        "#Метки классов закодированы от 0 до 9 С помощью one_hot кодирования преобразовать их в вектора размерности 10, состоящие из 9 нулей и 1 единицы.\n",
        "def one_hot(train_label):\n",
        "  vect = np.zeros(10)\n",
        "  vect[train_label] = 1\n",
        "  return vect\n",
        "\n",
        "print(one_hot(train_labels[10]))\n",
        "\n",
        "#Перед обучением набор данных необходимо нормализовать.\n",
        "#Пиксели принимают значения от 0 до 255, преобразуем от 0 до 1 - поделим на 255\n",
        "train_images = train_images.astype(\"float32\") / 255"
      ]
    },
    {
      "cell_type": "markdown",
      "source": [
        "Стохастический градиентный спуск"
      ],
      "metadata": {
        "id": "S1QzhNIraSCd"
      }
    },
    {
      "cell_type": "code",
      "source": [
        "number_of_epoches = 20\n",
        "learning_rate = 0.02\n",
        "hidden_size = 10\n",
        "\n",
        "img_size=28\n",
        "\n",
        "np.random.seed(1)\n",
        "\n",
        "def relu(x):\n",
        "    return (x > 0) * x # returns x if x > 0\n",
        "                       # return 0 otherwise\n",
        "\n",
        "def relu2deriv(output):\n",
        "    return output>0 # returns 1 for input > 0\n",
        "                    # return 0 otherwise\n",
        "    \n",
        "\n",
        "weights_0_1 = 2*np.random.random((img_size*img_size, hidden_size)) - 1 #веса между входным и скрытым слоями\n",
        "weights_1_2 = 2*np.random.random((hidden_size, 10)) - 1 #веса между скрытым и выходным слоями \n",
        "\n",
        "error_arr=[]\n",
        "for iteration in range(number_of_epoches):\n",
        "  \n",
        "   error = 0\n",
        "   for i in range(len(train_images)):\n",
        "\n",
        "      #forward pass\n",
        "      layer_0 = train_images[i:i+1]                \n",
        "      layer_1 = relu(np.dot(layer_0,weights_0_1))   \n",
        "      layer_2 = np.dot(layer_1,weights_1_2)       \n",
        "\n",
        "      error += np.sum((layer_2 - one_hot(train_labels[i])) ** 2)\n",
        "      \n",
        "      \n",
        "      #backward pass\n",
        "      layer_2_delta = layer_2 - one_hot(train_labels[i:i+1])\n",
        "      weight_1_2_corrections = layer_1.T.dot(layer_2_delta) #величина коррекции для весов между layer_1 и layer_2\n",
        "      \n",
        "      layer_1_delta = layer_2_delta.dot(weights_1_2.T) * relu2deriv(layer_1)\n",
        "      weight_0_1_corrections = layer_0.T.dot(layer_1_delta)\n",
        "\n",
        "      weights_1_2 -= learning_rate * weight_1_2_corrections\n",
        "      weights_0_1 -= learning_rate * weight_0_1_corrections\n",
        "   error_arr.append(error)\n",
        "   print(\"Error:\", error)"
      ],
      "metadata": {
        "id": "mAOS_2768wdD",
        "colab": {
          "base_uri": "https://localhost:8080/"
        },
        "outputId": "2cc3187b-3fdb-40e7-cb68-d2611220c430"
      },
      "execution_count": null,
      "outputs": [
        {
          "output_type": "stream",
          "name": "stdout",
          "text": [
            "Error: 59202.6953586792\n",
            "Error: 55662.70804325982\n",
            "Error: 55384.876436033635\n",
            "Error: 55252.70833574154\n",
            "Error: 55163.099745609885\n",
            "Error: 53307.84059824973\n",
            "Error: 49425.26432846997\n",
            "Error: 49073.03908520248\n",
            "Error: 48942.8464778934\n",
            "Error: 48859.506300211855\n",
            "Error: 48798.16210438462\n",
            "Error: 48751.4249045534\n",
            "Error: 48714.22946723116\n",
            "Error: 48680.09381077716\n",
            "Error: 47947.592600928365\n",
            "Error: 46185.60345427049\n",
            "Error: 45209.82491396078\n",
            "Error: 44761.30894392031\n",
            "Error: 44535.37740315237\n",
            "Error: 44390.028448277946\n"
          ]
        }
      ]
    },
    {
      "cell_type": "code",
      "source": [
        "import matplotlib.pyplot as plt\n",
        "\n",
        "# График ошибки\n",
        "fig = plt.figure(figsize=(12, 10), constrained_layout=True)\n",
        "ax1 = fig.add_subplot(221)\n",
        "ax1.plot(np.arange(len(error_arr)), error_arr, linewidth = 1)"
      ],
      "metadata": {
        "colab": {
          "base_uri": "https://localhost:8080/",
          "height": 413
        },
        "id": "HIwnA99uP_cA",
        "outputId": "a0fb7af9-b6c1-4ca9-d57a-12d80e53b26d"
      },
      "execution_count": null,
      "outputs": [
        {
          "output_type": "execute_result",
          "data": {
            "text/plain": [
              "[<matplotlib.lines.Line2D at 0x7f3e5b26d550>]"
            ]
          },
          "metadata": {},
          "execution_count": 27
        },
        {
          "output_type": "display_data",
          "data": {
            "text/plain": [
              "<Figure size 864x720 with 1 Axes>"
            ],
            "image/png": "[encoded data removed]"
          },
          "metadata": {
            "needs_background": "light"
          }
        }
      ]
    },
    {
      "cell_type": "markdown",
      "source": [
        "Пакетный градиентный спуск"
      ],
      "metadata": {
        "id": "UcvFsYMnaM5D"
      }
    },
    {
      "cell_type": "code",
      "source": [
        "number_of_epoches = 60\n",
        "learning_rate = 0.02 #0.02\n",
        "hidden_size = 7\n",
        "batch_size = 1000\n",
        "\n",
        "img_size=28\n",
        "\n",
        "np.random.seed(1)\n",
        "\n",
        "def relu(x):\n",
        "    return (x > 0) * x # returns x if x > 0\n",
        "                       # return 0 otherwise\n",
        "\n",
        "def relu2deriv(output):\n",
        "    return output>0 # returns 1 for input > 0\n",
        "                    # return 0 otherwise\n",
        "   \n",
        "\n",
        "weights_0_1 = 2*np.random.random((img_size*img_size, hidden_size)) - 1 #веса между входным и скрытым слоями\n",
        "weights_1_2 = 2*np.random.random((hidden_size, 10)) - 1 #веса между скрытым и выходным слоями \n",
        "\n",
        "n = len(train_images) // batch_size\n",
        "\n",
        "error_arr2=[]\n",
        "\n",
        "for iteration in range(number_of_epoches):\n",
        "\n",
        "   for i in range(n):\n",
        "      weight_1_2_corrections = np.zeros((hidden_size, 10))\n",
        "      weight_0_1_corrections = np.zeros(((img_size*img_size, hidden_size)))\n",
        "      \n",
        "      error = 0\n",
        "\n",
        "      for j in range(i*batch_size, i*batch_size+batch_size):\n",
        "        #forward pass\n",
        "        layer_0 = train_images[j:j+1]                 \n",
        "        layer_1 = relu(np.dot(layer_0,weights_0_1))   \n",
        "        layer_2 = np.dot(layer_1,weights_1_2)         \n",
        "\n",
        "        error += np.sum((layer_2 - one_hot(train_labels[j])) ** 2)\n",
        "\n",
        "        #backward pass\n",
        "        layer_2_delta = layer_2 - one_hot(train_labels[j:j+1])\n",
        "        weight_1_2_corrections += layer_1.T.dot(layer_2_delta) #величина коррекции для весов между layer_1 и layer_2\n",
        "\n",
        "        layer_1_delta = layer_2_delta.dot(weights_1_2.T) * relu2deriv(layer_1)\n",
        "        weight_0_1_corrections += layer_0.T.dot(layer_1_delta)\n",
        "\n",
        "      weights_1_2 -= learning_rate * (weight_1_2_corrections / batch_size)\n",
        "      weights_0_1 -= learning_rate * (weight_0_1_corrections / batch_size)\n",
        "   \n",
        "   error_arr2.append(error)\n",
        "   print(\"Error:\", error)"
      ],
      "metadata": {
        "colab": {
          "base_uri": "https://localhost:8080/"
        },
        "id": "pKhPX-WsaYJX",
        "outputId": "cf3ca000-1d94-4ac4-8d6f-8036452ba617"
      },
      "execution_count": null,
      "outputs": [
        {
          "output_type": "stream",
          "name": "stdout",
          "text": [
            "Error: 1210.8155784633911\n",
            "Error: 1041.7464468021558\n",
            "Error: 997.0998373444392\n",
            "Error: 979.3355109587856\n",
            "Error: 970.4458593944001\n",
            "Error: 965.3555272727161\n",
            "Error: 961.9516474526217\n",
            "Error: 959.4062654626644\n",
            "Error: 957.4439637709793\n",
            "Error: 955.9004203548466\n",
            "Error: 954.6704520601793\n",
            "Error: 953.6542625375097\n",
            "Error: 952.7629074451038\n",
            "Error: 951.9431452315876\n",
            "Error: 951.2040452432525\n",
            "Error: 950.5309667735927\n",
            "Error: 949.9078772472966\n",
            "Error: 949.3338453223673\n",
            "Error: 948.79843443167\n",
            "Error: 948.3063177634565\n",
            "Error: 947.8541834492756\n",
            "Error: 947.4335962250381\n",
            "Error: 947.0246570767338\n",
            "Error: 946.637758577814\n",
            "Error: 946.2817213567761\n",
            "Error: 945.9249684891297\n",
            "Error: 945.581216606616\n",
            "Error: 945.2395167935999\n",
            "Error: 944.9089720956941\n",
            "Error: 944.5911753287972\n",
            "Error: 944.284319540804\n",
            "Error: 943.9885373728276\n",
            "Error: 943.6981995373143\n",
            "Error: 943.4102716896956\n",
            "Error: 943.1188684414338\n",
            "Error: 942.8136741399023\n",
            "Error: 942.5147268801265\n",
            "Error: 942.2181375862057\n",
            "Error: 941.900514695685\n",
            "Error: 941.5635580101219\n",
            "Error: 941.2123988356618\n",
            "Error: 940.8549136954742\n",
            "Error: 940.506992404674\n",
            "Error: 940.154936237037\n",
            "Error: 939.8072477060227\n",
            "Error: 939.4654748631756\n",
            "Error: 939.1284596934238\n",
            "Error: 938.7991146126778\n",
            "Error: 938.472980812054\n",
            "Error: 938.1548348515042\n",
            "Error: 937.8403818415208\n",
            "Error: 937.5195721398158\n",
            "Error: 937.2011296309443\n",
            "Error: 936.882830881796\n",
            "Error: 936.5579277346977\n",
            "Error: 936.2338695260252\n",
            "Error: 935.9020684649978\n",
            "Error: 935.5703247668591\n",
            "Error: 935.2457088117658\n",
            "Error: 934.9295066125366\n"
          ]
        }
      ]
    },
    {
      "cell_type": "code",
      "source": [
        "import matplotlib.pyplot as plt\n",
        "\n",
        "# График ошибки\n",
        "fig = plt.figure(figsize=(12, 10), constrained_layout=True)\n",
        "ax1 = fig.add_subplot(221)\n",
        "ax1.plot(np.arange(len(error_arr2)), error_arr2, linewidth = 1)"
      ],
      "metadata": {
        "colab": {
          "base_uri": "https://localhost:8080/",
          "height": 413
        },
        "id": "_T39DJV5ahkl",
        "outputId": "fb32801d-2856-45d9-84ab-c906c8e5cf0d"
      },
      "execution_count": null,
      "outputs": [
        {
          "output_type": "execute_result",
          "data": {
            "text/plain": [
              "[<matplotlib.lines.Line2D at 0x7f3e6a513280>]"
            ]
          },
          "metadata": {},
          "execution_count": 40
        },
        {
          "output_type": "display_data",
          "data": {
            "text/plain": [
              "<Figure size 864x720 with 1 Axes>"
            ],
            "image/png": "[encoded data removed]"
          },
          "metadata": {
            "needs_background": "light"
          }
        }
      ]
    },
    {
      "cell_type": "markdown",
      "source": [
        "![image.png](data:image/png;base64,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)"
      ],
      "metadata": {
        "id": "PraAt670bxQV"
      }
    },
    {
      "cell_type": "markdown",
      "source": [
        "Количество эпох мало влияет на ошибку(если увеличивать больше чем 20)\n",
        "\n",
        "При этом все остальные параметры достаточно чувствительны"
      ],
      "metadata": {
        "id": "L9XCnYeNf5Qi"
      }
    }
  ]
}